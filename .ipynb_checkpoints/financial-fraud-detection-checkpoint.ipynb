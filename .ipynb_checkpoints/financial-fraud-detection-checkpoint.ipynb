{
 "cells": [
  {
   "cell_type": "markdown",
   "metadata": {},
   "source": [
    "# Financial Fraud Detection\n",
    "---\n",
    "\n",
    "# The Data\n",
    "The data used for this analysis is a synthetically generated digital transactions dataset using a simulator called PaySim. PaySim simulates mobile money transactions based on a sample of real transactions extracted from one month of financial logs from a mobile money service implemented in an African country. It aggregates anonymized data from the private dataset to generate a synthetic dataset and then injects fraudulent transactions.<br><br>\n",
    "View data here: https://www.kaggle.com/datasets/ealaxi/paysim1<br><br>\n",
    "Class variable: `isFraud`"
   ]
  },
  {
   "cell_type": "code",
   "execution_count": 1,
   "metadata": {
    "execution": {
     "iopub.execute_input": "2023-08-26T19:26:22.471505Z",
     "iopub.status.busy": "2023-08-26T19:26:22.470891Z",
     "iopub.status.idle": "2023-08-26T19:26:39.779733Z",
     "shell.execute_reply": "2023-08-26T19:26:39.778583Z",
     "shell.execute_reply.started": "2023-08-26T19:26:22.471459Z"
    }
   },
   "outputs": [
    {
     "data": {
      "text/html": [
       "<div>\n",
       "<style scoped>\n",
       "    .dataframe tbody tr th:only-of-type {\n",
       "        vertical-align: middle;\n",
       "    }\n",
       "\n",
       "    .dataframe tbody tr th {\n",
       "        vertical-align: top;\n",
       "    }\n",
       "\n",
       "    .dataframe thead th {\n",
       "        text-align: right;\n",
       "    }\n",
       "</style>\n",
       "<table border=\"1\" class=\"dataframe\">\n",
       "  <thead>\n",
       "    <tr style=\"text-align: right;\">\n",
       "      <th></th>\n",
       "      <th>step</th>\n",
       "      <th>type</th>\n",
       "      <th>amount</th>\n",
       "      <th>nameOrig</th>\n",
       "      <th>oldbalanceOrg</th>\n",
       "      <th>newbalanceOrig</th>\n",
       "      <th>nameDest</th>\n",
       "      <th>oldbalanceDest</th>\n",
       "      <th>newbalanceDest</th>\n",
       "      <th>isFraud</th>\n",
       "    </tr>\n",
       "  </thead>\n",
       "  <tbody>\n",
       "    <tr>\n",
       "      <th>0</th>\n",
       "      <td>1</td>\n",
       "      <td>PAYMENT</td>\n",
       "      <td>9839.64</td>\n",
       "      <td>C1231006815</td>\n",
       "      <td>170136.00</td>\n",
       "      <td>160296.36</td>\n",
       "      <td>M1979787155</td>\n",
       "      <td>0.00</td>\n",
       "      <td>0.00</td>\n",
       "      <td>0</td>\n",
       "    </tr>\n",
       "    <tr>\n",
       "      <th>1</th>\n",
       "      <td>1</td>\n",
       "      <td>PAYMENT</td>\n",
       "      <td>1864.28</td>\n",
       "      <td>C1666544295</td>\n",
       "      <td>21249.00</td>\n",
       "      <td>19384.72</td>\n",
       "      <td>M2044282225</td>\n",
       "      <td>0.00</td>\n",
       "      <td>0.00</td>\n",
       "      <td>0</td>\n",
       "    </tr>\n",
       "    <tr>\n",
       "      <th>2</th>\n",
       "      <td>1</td>\n",
       "      <td>TRANSFER</td>\n",
       "      <td>181.00</td>\n",
       "      <td>C1305486145</td>\n",
       "      <td>181.00</td>\n",
       "      <td>0.00</td>\n",
       "      <td>C553264065</td>\n",
       "      <td>0.00</td>\n",
       "      <td>0.00</td>\n",
       "      <td>1</td>\n",
       "    </tr>\n",
       "    <tr>\n",
       "      <th>3</th>\n",
       "      <td>1</td>\n",
       "      <td>CASH_OUT</td>\n",
       "      <td>181.00</td>\n",
       "      <td>C840083671</td>\n",
       "      <td>181.00</td>\n",
       "      <td>0.00</td>\n",
       "      <td>C38997010</td>\n",
       "      <td>21182.00</td>\n",
       "      <td>0.00</td>\n",
       "      <td>1</td>\n",
       "    </tr>\n",
       "    <tr>\n",
       "      <th>4</th>\n",
       "      <td>1</td>\n",
       "      <td>PAYMENT</td>\n",
       "      <td>11668.14</td>\n",
       "      <td>C2048537720</td>\n",
       "      <td>41554.00</td>\n",
       "      <td>29885.86</td>\n",
       "      <td>M1230701703</td>\n",
       "      <td>0.00</td>\n",
       "      <td>0.00</td>\n",
       "      <td>0</td>\n",
       "    </tr>\n",
       "    <tr>\n",
       "      <th>...</th>\n",
       "      <td>...</td>\n",
       "      <td>...</td>\n",
       "      <td>...</td>\n",
       "      <td>...</td>\n",
       "      <td>...</td>\n",
       "      <td>...</td>\n",
       "      <td>...</td>\n",
       "      <td>...</td>\n",
       "      <td>...</td>\n",
       "      <td>...</td>\n",
       "    </tr>\n",
       "    <tr>\n",
       "      <th>6362615</th>\n",
       "      <td>743</td>\n",
       "      <td>CASH_OUT</td>\n",
       "      <td>339682.13</td>\n",
       "      <td>C786484425</td>\n",
       "      <td>339682.13</td>\n",
       "      <td>0.00</td>\n",
       "      <td>C776919290</td>\n",
       "      <td>0.00</td>\n",
       "      <td>339682.13</td>\n",
       "      <td>1</td>\n",
       "    </tr>\n",
       "    <tr>\n",
       "      <th>6362616</th>\n",
       "      <td>743</td>\n",
       "      <td>TRANSFER</td>\n",
       "      <td>6311409.28</td>\n",
       "      <td>C1529008245</td>\n",
       "      <td>6311409.28</td>\n",
       "      <td>0.00</td>\n",
       "      <td>C1881841831</td>\n",
       "      <td>0.00</td>\n",
       "      <td>0.00</td>\n",
       "      <td>1</td>\n",
       "    </tr>\n",
       "    <tr>\n",
       "      <th>6362617</th>\n",
       "      <td>743</td>\n",
       "      <td>CASH_OUT</td>\n",
       "      <td>6311409.28</td>\n",
       "      <td>C1162922333</td>\n",
       "      <td>6311409.28</td>\n",
       "      <td>0.00</td>\n",
       "      <td>C1365125890</td>\n",
       "      <td>68488.84</td>\n",
       "      <td>6379898.11</td>\n",
       "      <td>1</td>\n",
       "    </tr>\n",
       "    <tr>\n",
       "      <th>6362618</th>\n",
       "      <td>743</td>\n",
       "      <td>TRANSFER</td>\n",
       "      <td>850002.52</td>\n",
       "      <td>C1685995037</td>\n",
       "      <td>850002.52</td>\n",
       "      <td>0.00</td>\n",
       "      <td>C2080388513</td>\n",
       "      <td>0.00</td>\n",
       "      <td>0.00</td>\n",
       "      <td>1</td>\n",
       "    </tr>\n",
       "    <tr>\n",
       "      <th>6362619</th>\n",
       "      <td>743</td>\n",
       "      <td>CASH_OUT</td>\n",
       "      <td>850002.52</td>\n",
       "      <td>C1280323807</td>\n",
       "      <td>850002.52</td>\n",
       "      <td>0.00</td>\n",
       "      <td>C873221189</td>\n",
       "      <td>6510099.11</td>\n",
       "      <td>7360101.63</td>\n",
       "      <td>1</td>\n",
       "    </tr>\n",
       "  </tbody>\n",
       "</table>\n",
       "<p>6362620 rows × 10 columns</p>\n",
       "</div>"
      ],
      "text/plain": [
       "         step      type      amount     nameOrig  oldbalanceOrg  \\\n",
       "0           1   PAYMENT     9839.64  C1231006815      170136.00   \n",
       "1           1   PAYMENT     1864.28  C1666544295       21249.00   \n",
       "2           1  TRANSFER      181.00  C1305486145         181.00   \n",
       "3           1  CASH_OUT      181.00   C840083671         181.00   \n",
       "4           1   PAYMENT    11668.14  C2048537720       41554.00   \n",
       "...       ...       ...         ...          ...            ...   \n",
       "6362615   743  CASH_OUT   339682.13   C786484425      339682.13   \n",
       "6362616   743  TRANSFER  6311409.28  C1529008245     6311409.28   \n",
       "6362617   743  CASH_OUT  6311409.28  C1162922333     6311409.28   \n",
       "6362618   743  TRANSFER   850002.52  C1685995037      850002.52   \n",
       "6362619   743  CASH_OUT   850002.52  C1280323807      850002.52   \n",
       "\n",
       "         newbalanceOrig     nameDest  oldbalanceDest  newbalanceDest  isFraud  \n",
       "0             160296.36  M1979787155            0.00            0.00        0  \n",
       "1              19384.72  M2044282225            0.00            0.00        0  \n",
       "2                  0.00   C553264065            0.00            0.00        1  \n",
       "3                  0.00    C38997010        21182.00            0.00        1  \n",
       "4              29885.86  M1230701703            0.00            0.00        0  \n",
       "...                 ...          ...             ...             ...      ...  \n",
       "6362615            0.00   C776919290            0.00       339682.13        1  \n",
       "6362616            0.00  C1881841831            0.00            0.00        1  \n",
       "6362617            0.00  C1365125890        68488.84      6379898.11        1  \n",
       "6362618            0.00  C2080388513            0.00            0.00        1  \n",
       "6362619            0.00   C873221189      6510099.11      7360101.63        1  \n",
       "\n",
       "[6362620 rows x 10 columns]"
      ]
     },
     "execution_count": 1,
     "metadata": {},
     "output_type": "execute_result"
    }
   ],
   "source": [
    "import pandas as pd\n",
    "from IPython.display import display\n",
    "\n",
    "df = pd.read_csv('SFDFD.csv')\n",
    "del df['isFlaggedFraud']\n",
    "\n",
    "df"
   ]
  },
  {
   "cell_type": "markdown",
   "metadata": {},
   "source": [
    "# Data Cleaning"
   ]
  },
  {
   "cell_type": "code",
   "execution_count": 2,
   "metadata": {
    "execution": {
     "iopub.execute_input": "2023-08-26T19:26:39.783614Z",
     "iopub.status.busy": "2023-08-26T19:26:39.782243Z",
     "iopub.status.idle": "2023-08-26T19:26:39.797571Z",
     "shell.execute_reply": "2023-08-26T19:26:39.796447Z",
     "shell.execute_reply.started": "2023-08-26T19:26:39.783575Z"
    }
   },
   "outputs": [
    {
     "data": {
      "text/plain": [
       "step                int64\n",
       "type               object\n",
       "amount            float64\n",
       "nameOrig           object\n",
       "oldbalanceOrg     float64\n",
       "newbalanceOrig    float64\n",
       "nameDest           object\n",
       "oldbalanceDest    float64\n",
       "newbalanceDest    float64\n",
       "isFraud             int64\n",
       "dtype: object"
      ]
     },
     "execution_count": 2,
     "metadata": {},
     "output_type": "execute_result"
    }
   ],
   "source": [
    "df.dtypes"
   ]
  },
  {
   "cell_type": "markdown",
   "metadata": {},
   "source": [
    "Now, we get the summary statistics of this `pandas dataframe` which will be done in two bits:\n",
    "1. Summary of 'Numerical' attributes:"
   ]
  },
  {
   "cell_type": "code",
   "execution_count": 3,
   "metadata": {
    "execution": {
     "iopub.execute_input": "2023-08-26T19:26:39.800199Z",
     "iopub.status.busy": "2023-08-26T19:26:39.799487Z",
     "iopub.status.idle": "2023-08-26T19:26:41.707953Z",
     "shell.execute_reply": "2023-08-26T19:26:41.70674Z",
     "shell.execute_reply.started": "2023-08-26T19:26:39.800138Z"
    }
   },
   "outputs": [
    {
     "data": {
      "text/html": [
       "<div>\n",
       "<style scoped>\n",
       "    .dataframe tbody tr th:only-of-type {\n",
       "        vertical-align: middle;\n",
       "    }\n",
       "\n",
       "    .dataframe tbody tr th {\n",
       "        vertical-align: top;\n",
       "    }\n",
       "\n",
       "    .dataframe thead th {\n",
       "        text-align: right;\n",
       "    }\n",
       "</style>\n",
       "<table border=\"1\" class=\"dataframe\">\n",
       "  <thead>\n",
       "    <tr style=\"text-align: right;\">\n",
       "      <th></th>\n",
       "      <th>step</th>\n",
       "      <th>amount</th>\n",
       "      <th>oldbalanceOrg</th>\n",
       "      <th>newbalanceOrig</th>\n",
       "      <th>oldbalanceDest</th>\n",
       "      <th>newbalanceDest</th>\n",
       "      <th>isFraud</th>\n",
       "    </tr>\n",
       "  </thead>\n",
       "  <tbody>\n",
       "    <tr>\n",
       "      <th>count</th>\n",
       "      <td>6.362620e+06</td>\n",
       "      <td>6.362620e+06</td>\n",
       "      <td>6.362620e+06</td>\n",
       "      <td>6.362620e+06</td>\n",
       "      <td>6.362620e+06</td>\n",
       "      <td>6.362620e+06</td>\n",
       "      <td>6.362620e+06</td>\n",
       "    </tr>\n",
       "    <tr>\n",
       "      <th>mean</th>\n",
       "      <td>2.433972e+02</td>\n",
       "      <td>1.798619e+05</td>\n",
       "      <td>8.338831e+05</td>\n",
       "      <td>8.551137e+05</td>\n",
       "      <td>1.100702e+06</td>\n",
       "      <td>1.224996e+06</td>\n",
       "      <td>1.290820e-03</td>\n",
       "    </tr>\n",
       "    <tr>\n",
       "      <th>std</th>\n",
       "      <td>1.423320e+02</td>\n",
       "      <td>6.038582e+05</td>\n",
       "      <td>2.888243e+06</td>\n",
       "      <td>2.924049e+06</td>\n",
       "      <td>3.399180e+06</td>\n",
       "      <td>3.674129e+06</td>\n",
       "      <td>3.590480e-02</td>\n",
       "    </tr>\n",
       "    <tr>\n",
       "      <th>min</th>\n",
       "      <td>1.000000e+00</td>\n",
       "      <td>0.000000e+00</td>\n",
       "      <td>0.000000e+00</td>\n",
       "      <td>0.000000e+00</td>\n",
       "      <td>0.000000e+00</td>\n",
       "      <td>0.000000e+00</td>\n",
       "      <td>0.000000e+00</td>\n",
       "    </tr>\n",
       "    <tr>\n",
       "      <th>25%</th>\n",
       "      <td>1.560000e+02</td>\n",
       "      <td>1.338957e+04</td>\n",
       "      <td>0.000000e+00</td>\n",
       "      <td>0.000000e+00</td>\n",
       "      <td>0.000000e+00</td>\n",
       "      <td>0.000000e+00</td>\n",
       "      <td>0.000000e+00</td>\n",
       "    </tr>\n",
       "    <tr>\n",
       "      <th>50%</th>\n",
       "      <td>2.390000e+02</td>\n",
       "      <td>7.487194e+04</td>\n",
       "      <td>1.420800e+04</td>\n",
       "      <td>0.000000e+00</td>\n",
       "      <td>1.327057e+05</td>\n",
       "      <td>2.146614e+05</td>\n",
       "      <td>0.000000e+00</td>\n",
       "    </tr>\n",
       "    <tr>\n",
       "      <th>75%</th>\n",
       "      <td>3.350000e+02</td>\n",
       "      <td>2.087215e+05</td>\n",
       "      <td>1.073152e+05</td>\n",
       "      <td>1.442584e+05</td>\n",
       "      <td>9.430367e+05</td>\n",
       "      <td>1.111909e+06</td>\n",
       "      <td>0.000000e+00</td>\n",
       "    </tr>\n",
       "    <tr>\n",
       "      <th>max</th>\n",
       "      <td>7.430000e+02</td>\n",
       "      <td>9.244552e+07</td>\n",
       "      <td>5.958504e+07</td>\n",
       "      <td>4.958504e+07</td>\n",
       "      <td>3.560159e+08</td>\n",
       "      <td>3.561793e+08</td>\n",
       "      <td>1.000000e+00</td>\n",
       "    </tr>\n",
       "  </tbody>\n",
       "</table>\n",
       "</div>"
      ],
      "text/plain": [
       "               step        amount  oldbalanceOrg  newbalanceOrig  \\\n",
       "count  6.362620e+06  6.362620e+06   6.362620e+06    6.362620e+06   \n",
       "mean   2.433972e+02  1.798619e+05   8.338831e+05    8.551137e+05   \n",
       "std    1.423320e+02  6.038582e+05   2.888243e+06    2.924049e+06   \n",
       "min    1.000000e+00  0.000000e+00   0.000000e+00    0.000000e+00   \n",
       "25%    1.560000e+02  1.338957e+04   0.000000e+00    0.000000e+00   \n",
       "50%    2.390000e+02  7.487194e+04   1.420800e+04    0.000000e+00   \n",
       "75%    3.350000e+02  2.087215e+05   1.073152e+05    1.442584e+05   \n",
       "max    7.430000e+02  9.244552e+07   5.958504e+07    4.958504e+07   \n",
       "\n",
       "       oldbalanceDest  newbalanceDest       isFraud  \n",
       "count    6.362620e+06    6.362620e+06  6.362620e+06  \n",
       "mean     1.100702e+06    1.224996e+06  1.290820e-03  \n",
       "std      3.399180e+06    3.674129e+06  3.590480e-02  \n",
       "min      0.000000e+00    0.000000e+00  0.000000e+00  \n",
       "25%      0.000000e+00    0.000000e+00  0.000000e+00  \n",
       "50%      1.327057e+05    2.146614e+05  0.000000e+00  \n",
       "75%      9.430367e+05    1.111909e+06  0.000000e+00  \n",
       "max      3.560159e+08    3.561793e+08  1.000000e+00  "
      ]
     },
     "execution_count": 3,
     "metadata": {},
     "output_type": "execute_result"
    }
   ],
   "source": [
    "desc_df_num = df.describe([.25, .5, .75])\n",
    "desc_df_num"
   ]
  },
  {
   "cell_type": "markdown",
   "metadata": {},
   "source": [
    "2. Summary of 'Categorical' columns:<br><br>\n",
    "In this section only the count, unique values and mode of data hold importance."
   ]
  },
  {
   "cell_type": "code",
   "execution_count": 4,
   "metadata": {
    "execution": {
     "iopub.execute_input": "2023-08-26T19:26:41.712086Z",
     "iopub.status.busy": "2023-08-26T19:26:41.711133Z",
     "iopub.status.idle": "2023-08-26T19:26:58.908518Z",
     "shell.execute_reply": "2023-08-26T19:26:58.907283Z",
     "shell.execute_reply.started": "2023-08-26T19:26:41.712054Z"
    }
   },
   "outputs": [
    {
     "data": {
      "text/html": [
       "<div>\n",
       "<style scoped>\n",
       "    .dataframe tbody tr th:only-of-type {\n",
       "        vertical-align: middle;\n",
       "    }\n",
       "\n",
       "    .dataframe tbody tr th {\n",
       "        vertical-align: top;\n",
       "    }\n",
       "\n",
       "    .dataframe thead th {\n",
       "        text-align: right;\n",
       "    }\n",
       "</style>\n",
       "<table border=\"1\" class=\"dataframe\">\n",
       "  <thead>\n",
       "    <tr style=\"text-align: right;\">\n",
       "      <th></th>\n",
       "      <th>type</th>\n",
       "      <th>nameOrig</th>\n",
       "      <th>nameDest</th>\n",
       "    </tr>\n",
       "  </thead>\n",
       "  <tbody>\n",
       "    <tr>\n",
       "      <th>count</th>\n",
       "      <td>6362620</td>\n",
       "      <td>6362620</td>\n",
       "      <td>6362620</td>\n",
       "    </tr>\n",
       "    <tr>\n",
       "      <th>unique</th>\n",
       "      <td>5</td>\n",
       "      <td>6353307</td>\n",
       "      <td>2722362</td>\n",
       "    </tr>\n",
       "    <tr>\n",
       "      <th>top</th>\n",
       "      <td>CASH_OUT</td>\n",
       "      <td>C1902386530</td>\n",
       "      <td>C1286084959</td>\n",
       "    </tr>\n",
       "    <tr>\n",
       "      <th>freq</th>\n",
       "      <td>2237500</td>\n",
       "      <td>3</td>\n",
       "      <td>113</td>\n",
       "    </tr>\n",
       "  </tbody>\n",
       "</table>\n",
       "</div>"
      ],
      "text/plain": [
       "            type     nameOrig     nameDest\n",
       "count    6362620      6362620      6362620\n",
       "unique         5      6353307      2722362\n",
       "top     CASH_OUT  C1902386530  C1286084959\n",
       "freq     2237500            3          113"
      ]
     },
     "execution_count": 4,
     "metadata": {},
     "output_type": "execute_result"
    }
   ],
   "source": [
    "desc_df_cat = df.describe(include=\"object\")\n",
    "desc_df_cat"
   ]
  },
  {
   "cell_type": "markdown",
   "metadata": {},
   "source": [
    "Now we move forward to check for missing values in our dataset, and handle them depending on the number of missing values, column-wise."
   ]
  },
  {
   "cell_type": "code",
   "execution_count": 5,
   "metadata": {
    "execution": {
     "iopub.execute_input": "2023-08-26T19:26:58.910941Z",
     "iopub.status.busy": "2023-08-26T19:26:58.910526Z",
     "iopub.status.idle": "2023-08-26T19:27:04.331404Z",
     "shell.execute_reply": "2023-08-26T19:27:04.330345Z",
     "shell.execute_reply.started": "2023-08-26T19:26:58.910903Z"
    }
   },
   "outputs": [
    {
     "data": {
      "text/plain": [
       "False"
      ]
     },
     "execution_count": 5,
     "metadata": {},
     "output_type": "execute_result"
    }
   ],
   "source": [
    "df.isnull().values.any()"
   ]
  },
  {
   "cell_type": "markdown",
   "metadata": {},
   "source": [
    "The output of the above code block suggest are no `nulls` in our dataset.\n",
    "\n",
    "# Exploratory Data Analysis\n",
    "\n",
    "As can be seen from the above <b>table</b> `desc_df_cat`, the number of legitimate (<b>non-fraudulent</b>) transactions (`isFraud = 0`) is very high compared to the fraudulent ones.\n"
   ]
  },
  {
   "cell_type": "code",
   "execution_count": 6,
   "metadata": {
    "execution": {
     "iopub.execute_input": "2023-08-26T19:27:04.333287Z",
     "iopub.status.busy": "2023-08-26T19:27:04.332838Z",
     "iopub.status.idle": "2023-08-26T19:27:04.391291Z",
     "shell.execute_reply": "2023-08-26T19:27:04.390294Z",
     "shell.execute_reply.started": "2023-08-26T19:27:04.333254Z"
    }
   },
   "outputs": [
    {
     "data": {
      "text/plain": [
       "isFraud\n",
       "0    6354407\n",
       "1       8213\n",
       "Name: count, dtype: int64"
      ]
     },
     "execution_count": 6,
     "metadata": {},
     "output_type": "execute_result"
    }
   ],
   "source": [
    "df.isFraud.value_counts()"
   ]
  },
  {
   "cell_type": "markdown",
   "metadata": {},
   "source": [
    "We only have `~0.13%` fraudulent transactions in our dataset (as would be the case in the real world), which creates an <b><i>imbalance</i></b> in our class variable `isFraud` —> <b>Class Imbalance</b>."
   ]
  },
  {
   "cell_type": "code",
   "execution_count": 7,
   "metadata": {
    "execution": {
     "iopub.execute_input": "2023-08-26T19:27:04.394688Z",
     "iopub.status.busy": "2023-08-26T19:27:04.394354Z",
     "iopub.status.idle": "2023-08-26T19:27:04.746161Z",
     "shell.execute_reply": "2023-08-26T19:27:04.74526Z",
     "shell.execute_reply.started": "2023-08-26T19:27:04.394664Z"
    }
   },
   "outputs": [
    {
     "data": {
      "image/png": "[encoded data removed]",
      "text/plain": [
       "<Figure size 640x480 with 1 Axes>"
      ]
     },
     "metadata": {},
     "output_type": "display_data"
    }
   ],
   "source": [
    "import matplotlib.pyplot as plt\n",
    "\n",
    "axes = pd.value_counts(df['isFraud'], sort = True).sort_index().plot(kind = 'bar', title = 'Class Imbalance')\n",
    "\n",
    "for p in axes.patches:\n",
    "    axes.annotate(str(format(int(p.get_height()), ',d')), (p.get_x(), p.get_height()))\n",
    "    axes.set_xlabel('isFraud')\n",
    "    axes.set_ylabel('No. of transactions')\n",
    "plt.show()"
   ]
  },
  {
   "cell_type": "markdown",
   "metadata": {},
   "source": [
    "As we can see from these results, our class variable contains data which is highly skewed towards the <i>flag</i> value `0`, which would indeed affect any models we might <b>train</b> on this dataset.\n",
    "\n",
    "Moving on to the attribute `type`—types of transactions:"
   ]
  },
  {
   "cell_type": "code",
   "execution_count": 8,
   "metadata": {
    "execution": {
     "iopub.execute_input": "2023-08-26T19:27:04.74845Z",
     "iopub.status.busy": "2023-08-26T19:27:04.747768Z",
     "iopub.status.idle": "2023-08-26T19:27:05.269334Z",
     "shell.execute_reply": "2023-08-26T19:27:05.268331Z",
     "shell.execute_reply.started": "2023-08-26T19:27:04.748415Z"
    }
   },
   "outputs": [
    {
     "data": {
      "text/plain": [
       "array(['PAYMENT', 'TRANSFER', 'CASH_OUT', 'DEBIT', 'CASH_IN'],\n",
       "      dtype=object)"
      ]
     },
     "execution_count": 8,
     "metadata": {},
     "output_type": "execute_result"
    }
   ],
   "source": [
    "df['type'].unique()"
   ]
  },
  {
   "cell_type": "code",
   "execution_count": 9,
   "metadata": {
    "execution": {
     "iopub.execute_input": "2023-08-26T19:27:05.271067Z",
     "iopub.status.busy": "2023-08-26T19:27:05.270684Z",
     "iopub.status.idle": "2023-08-26T19:27:06.430478Z",
     "shell.execute_reply": "2023-08-26T19:27:06.429364Z",
     "shell.execute_reply.started": "2023-08-26T19:27:05.271033Z"
    }
   },
   "outputs": [
    {
     "data": {
      "text/plain": [
       "<Axes: xlabel='type'>"
      ]
     },
     "execution_count": 9,
     "metadata": {},
     "output_type": "execute_result"
    },
    {
     "data": {
      "image/png": "[encoded data removed]",
      "text/plain": [
       "<Figure size 640x480 with 1 Axes>"
      ]
     },
     "metadata": {},
     "output_type": "display_data"
    }
   ],
   "source": [
    "plotColours = [(x/4, x/10, 0.75) for x in range(10)]\n",
    "df['type'].value_counts().plot.bar(color = plotColours)"
   ]
  },
  {
   "cell_type": "code",
   "execution_count": 10,
   "metadata": {
    "execution": {
     "iopub.execute_input": "2023-08-26T19:27:06.436242Z",
     "iopub.status.busy": "2023-08-26T19:27:06.435934Z",
     "iopub.status.idle": "2023-08-26T19:27:08.684199Z",
     "shell.execute_reply": "2023-08-26T19:27:08.683035Z",
     "shell.execute_reply.started": "2023-08-26T19:27:06.436215Z"
    }
   },
   "outputs": [
    {
     "data": {
      "image/png": "[encoded data removed]",
      "text/plain": [
       "<Figure size 640x480 with 1 Axes>"
      ]
     },
     "metadata": {},
     "output_type": "display_data"
    }
   ],
   "source": [
    "plotColours = [(x/6, x/10000, 0.75) for x in range(10)]\n",
    "axes = df.groupby(['type', 'isFraud']).size().plot.bar(color = {'violet', 'green', 'purple', 'orange', 'teal', 'brown'})\n",
    "axes = df.groupby(['type', 'isFraud']).size().plot.bar(color = plotColours)\n",
    "axes.set_title('Transactions as per Type')\n",
    "axes.set_xlabel('(type, isFraud)')\n",
    "axes.set_ylabel('No. of transactions')\n",
    "for p in axes.patches:\n",
    "    axes.annotate(str(format(int(p.get_height()), ',d')), (p.get_x(), p.get_height()*1.01))"
   ]
  },
  {
   "cell_type": "markdown",
   "metadata": {},
   "source": [
    "This plot shows us that only `type` `CASH_OUT` and `type` `TRANSFER` transactions can be <i>fraudulent</i>, and we can therefore remove the entries which have a different transaction `type`."
   ]
  },
  {
   "cell_type": "code",
   "execution_count": 11,
   "metadata": {
    "execution": {
     "iopub.execute_input": "2023-08-26T19:27:08.686248Z",
     "iopub.status.busy": "2023-08-26T19:27:08.685882Z",
     "iopub.status.idle": "2023-08-26T19:27:10.571069Z",
     "shell.execute_reply": "2023-08-26T19:27:10.569683Z",
     "shell.execute_reply.started": "2023-08-26T19:27:08.68621Z"
    }
   },
   "outputs": [
    {
     "data": {
      "text/html": [
       "<div>\n",
       "<style scoped>\n",
       "    .dataframe tbody tr th:only-of-type {\n",
       "        vertical-align: middle;\n",
       "    }\n",
       "\n",
       "    .dataframe tbody tr th {\n",
       "        vertical-align: top;\n",
       "    }\n",
       "\n",
       "    .dataframe thead th {\n",
       "        text-align: right;\n",
       "    }\n",
       "</style>\n",
       "<table border=\"1\" class=\"dataframe\">\n",
       "  <thead>\n",
       "    <tr style=\"text-align: right;\">\n",
       "      <th></th>\n",
       "      <th>step</th>\n",
       "      <th>type</th>\n",
       "      <th>amount</th>\n",
       "      <th>nameOrig</th>\n",
       "      <th>oldbalanceOrg</th>\n",
       "      <th>newbalanceOrig</th>\n",
       "      <th>nameDest</th>\n",
       "      <th>oldbalanceDest</th>\n",
       "      <th>newbalanceDest</th>\n",
       "      <th>isFraud</th>\n",
       "    </tr>\n",
       "  </thead>\n",
       "  <tbody>\n",
       "    <tr>\n",
       "      <th>2</th>\n",
       "      <td>1</td>\n",
       "      <td>TRANSFER</td>\n",
       "      <td>181.00</td>\n",
       "      <td>C1305486145</td>\n",
       "      <td>181.00</td>\n",
       "      <td>0.0</td>\n",
       "      <td>C553264065</td>\n",
       "      <td>0.00</td>\n",
       "      <td>0.00</td>\n",
       "      <td>1</td>\n",
       "    </tr>\n",
       "    <tr>\n",
       "      <th>3</th>\n",
       "      <td>1</td>\n",
       "      <td>CASH_OUT</td>\n",
       "      <td>181.00</td>\n",
       "      <td>C840083671</td>\n",
       "      <td>181.00</td>\n",
       "      <td>0.0</td>\n",
       "      <td>C38997010</td>\n",
       "      <td>21182.00</td>\n",
       "      <td>0.00</td>\n",
       "      <td>1</td>\n",
       "    </tr>\n",
       "    <tr>\n",
       "      <th>15</th>\n",
       "      <td>1</td>\n",
       "      <td>CASH_OUT</td>\n",
       "      <td>229133.94</td>\n",
       "      <td>C905080434</td>\n",
       "      <td>15325.00</td>\n",
       "      <td>0.0</td>\n",
       "      <td>C476402209</td>\n",
       "      <td>5083.00</td>\n",
       "      <td>51513.44</td>\n",
       "      <td>0</td>\n",
       "    </tr>\n",
       "    <tr>\n",
       "      <th>19</th>\n",
       "      <td>1</td>\n",
       "      <td>TRANSFER</td>\n",
       "      <td>215310.30</td>\n",
       "      <td>C1670993182</td>\n",
       "      <td>705.00</td>\n",
       "      <td>0.0</td>\n",
       "      <td>C1100439041</td>\n",
       "      <td>22425.00</td>\n",
       "      <td>0.00</td>\n",
       "      <td>0</td>\n",
       "    </tr>\n",
       "    <tr>\n",
       "      <th>24</th>\n",
       "      <td>1</td>\n",
       "      <td>TRANSFER</td>\n",
       "      <td>311685.89</td>\n",
       "      <td>C1984094095</td>\n",
       "      <td>10835.00</td>\n",
       "      <td>0.0</td>\n",
       "      <td>C932583850</td>\n",
       "      <td>6267.00</td>\n",
       "      <td>2719172.89</td>\n",
       "      <td>0</td>\n",
       "    </tr>\n",
       "    <tr>\n",
       "      <th>...</th>\n",
       "      <td>...</td>\n",
       "      <td>...</td>\n",
       "      <td>...</td>\n",
       "      <td>...</td>\n",
       "      <td>...</td>\n",
       "      <td>...</td>\n",
       "      <td>...</td>\n",
       "      <td>...</td>\n",
       "      <td>...</td>\n",
       "      <td>...</td>\n",
       "    </tr>\n",
       "    <tr>\n",
       "      <th>6362615</th>\n",
       "      <td>743</td>\n",
       "      <td>CASH_OUT</td>\n",
       "      <td>339682.13</td>\n",
       "      <td>C786484425</td>\n",
       "      <td>339682.13</td>\n",
       "      <td>0.0</td>\n",
       "      <td>C776919290</td>\n",
       "      <td>0.00</td>\n",
       "      <td>339682.13</td>\n",
       "      <td>1</td>\n",
       "    </tr>\n",
       "    <tr>\n",
       "      <th>6362616</th>\n",
       "      <td>743</td>\n",
       "      <td>TRANSFER</td>\n",
       "      <td>6311409.28</td>\n",
       "      <td>C1529008245</td>\n",
       "      <td>6311409.28</td>\n",
       "      <td>0.0</td>\n",
       "      <td>C1881841831</td>\n",
       "      <td>0.00</td>\n",
       "      <td>0.00</td>\n",
       "      <td>1</td>\n",
       "    </tr>\n",
       "    <tr>\n",
       "      <th>6362617</th>\n",
       "      <td>743</td>\n",
       "      <td>CASH_OUT</td>\n",
       "      <td>6311409.28</td>\n",
       "      <td>C1162922333</td>\n",
       "      <td>6311409.28</td>\n",
       "      <td>0.0</td>\n",
       "      <td>C1365125890</td>\n",
       "      <td>68488.84</td>\n",
       "      <td>6379898.11</td>\n",
       "      <td>1</td>\n",
       "    </tr>\n",
       "    <tr>\n",
       "      <th>6362618</th>\n",
       "      <td>743</td>\n",
       "      <td>TRANSFER</td>\n",
       "      <td>850002.52</td>\n",
       "      <td>C1685995037</td>\n",
       "      <td>850002.52</td>\n",
       "      <td>0.0</td>\n",
       "      <td>C2080388513</td>\n",
       "      <td>0.00</td>\n",
       "      <td>0.00</td>\n",
       "      <td>1</td>\n",
       "    </tr>\n",
       "    <tr>\n",
       "      <th>6362619</th>\n",
       "      <td>743</td>\n",
       "      <td>CASH_OUT</td>\n",
       "      <td>850002.52</td>\n",
       "      <td>C1280323807</td>\n",
       "      <td>850002.52</td>\n",
       "      <td>0.0</td>\n",
       "      <td>C873221189</td>\n",
       "      <td>6510099.11</td>\n",
       "      <td>7360101.63</td>\n",
       "      <td>1</td>\n",
       "    </tr>\n",
       "  </tbody>\n",
       "</table>\n",
       "<p>2770409 rows × 10 columns</p>\n",
       "</div>"
      ],
      "text/plain": [
       "         step      type      amount     nameOrig  oldbalanceOrg  \\\n",
       "2           1  TRANSFER      181.00  C1305486145         181.00   \n",
       "3           1  CASH_OUT      181.00   C840083671         181.00   \n",
       "15          1  CASH_OUT   229133.94   C905080434       15325.00   \n",
       "19          1  TRANSFER   215310.30  C1670993182         705.00   \n",
       "24          1  TRANSFER   311685.89  C1984094095       10835.00   \n",
       "...       ...       ...         ...          ...            ...   \n",
       "6362615   743  CASH_OUT   339682.13   C786484425      339682.13   \n",
       "6362616   743  TRANSFER  6311409.28  C1529008245     6311409.28   \n",
       "6362617   743  CASH_OUT  6311409.28  C1162922333     6311409.28   \n",
       "6362618   743  TRANSFER   850002.52  C1685995037      850002.52   \n",
       "6362619   743  CASH_OUT   850002.52  C1280323807      850002.52   \n",
       "\n",
       "         newbalanceOrig     nameDest  oldbalanceDest  newbalanceDest  isFraud  \n",
       "2                   0.0   C553264065            0.00            0.00        1  \n",
       "3                   0.0    C38997010        21182.00            0.00        1  \n",
       "15                  0.0   C476402209         5083.00        51513.44        0  \n",
       "19                  0.0  C1100439041        22425.00            0.00        0  \n",
       "24                  0.0   C932583850         6267.00      2719172.89        0  \n",
       "...                 ...          ...             ...             ...      ...  \n",
       "6362615             0.0   C776919290            0.00       339682.13        1  \n",
       "6362616             0.0  C1881841831            0.00            0.00        1  \n",
       "6362617             0.0  C1365125890        68488.84      6379898.11        1  \n",
       "6362618             0.0  C2080388513            0.00            0.00        1  \n",
       "6362619             0.0   C873221189      6510099.11      7360101.63        1  \n",
       "\n",
       "[2770409 rows x 10 columns]"
      ]
     },
     "execution_count": 11,
     "metadata": {},
     "output_type": "execute_result"
    }
   ],
   "source": [
    "df = df.loc[~(df['type'].isin(['CASH_IN', 'DEBIT', 'PAYMENT']))]\n",
    "df"
   ]
  },
  {
   "cell_type": "markdown",
   "metadata": {},
   "source": [
    "Only the transactions of `CASH_OUT type` and `TRANSFER type` are retained in out dataframe now, and the updated dataframe now has a total of `2770409` transactions, the data which earlier had `>6mil` tuples.<br><br>\n",
    "We shall now check the percentge of <i>fraudulent</i> transactions shared among these two categories for a better understanding of the distribution of the same."
   ]
  },
  {
   "cell_type": "code",
   "execution_count": 12,
   "metadata": {
    "execution": {
     "iopub.execute_input": "2023-08-26T19:27:10.573325Z",
     "iopub.status.busy": "2023-08-26T19:27:10.572946Z",
     "iopub.status.idle": "2023-08-26T19:27:10.723616Z",
     "shell.execute_reply": "2023-08-26T19:27:10.72243Z",
     "shell.execute_reply.started": "2023-08-26T19:27:10.573291Z"
    }
   },
   "outputs": [
    {
     "data": {
      "text/plain": [
       "type\n",
       "CASH_OUT    0.501157\n",
       "TRANSFER    0.498843\n",
       "Name: proportion, dtype: float64"
      ]
     },
     "metadata": {},
     "output_type": "display_data"
    },
    {
     "data": {
      "text/plain": [
       "<Axes: ylabel='count'>"
      ]
     },
     "execution_count": 12,
     "metadata": {},
     "output_type": "execute_result"
    },
    {
     "data": {
      "image/png": "[encoded data removed]",
      "text/plain": [
       "<Figure size 640x480 with 1 Axes>"
      ]
     },
     "metadata": {},
     "output_type": "display_data"
    }
   ],
   "source": [
    "data_fraud = df[df.isFraud == 1] \n",
    "display(data_fraud.type.value_counts(normalize=True))\n",
    "data_fraud.type.value_counts().plot.pie()"
   ]
  },
  {
   "cell_type": "markdown",
   "metadata": {},
   "source": [
    "As can be seen from the above chart and figures, `isFraud = 1` transactions are almost equally distributed among `type CASH_OUT` and `TRANSFER` in the ratio `0.501:0.499`."
   ]
  },
  {
   "cell_type": "markdown",
   "metadata": {},
   "source": [
    "Now we will move on to checking the transactions where `amount` is `zero`."
   ]
  },
  {
   "cell_type": "code",
   "execution_count": 13,
   "metadata": {
    "execution": {
     "iopub.execute_input": "2023-08-26T19:27:10.725631Z",
     "iopub.status.busy": "2023-08-26T19:27:10.725282Z",
     "iopub.status.idle": "2023-08-26T19:27:10.749927Z",
     "shell.execute_reply": "2023-08-26T19:27:10.748643Z",
     "shell.execute_reply.started": "2023-08-26T19:27:10.725599Z"
    }
   },
   "outputs": [
    {
     "data": {
      "text/plain": [
       "(16,\n",
       "              type  isFraud\n",
       " 2736447  CASH_OUT        1\n",
       " 3247298  CASH_OUT        1\n",
       " 3760289  CASH_OUT        1\n",
       " 5563714  CASH_OUT        1\n",
       " 5996408  CASH_OUT        1\n",
       " 5996410  CASH_OUT        1\n",
       " 6168500  CASH_OUT        1\n",
       " 6205440  CASH_OUT        1\n",
       " 6266414  CASH_OUT        1\n",
       " 6281483  CASH_OUT        1\n",
       " 6281485  CASH_OUT        1\n",
       " 6296015  CASH_OUT        1\n",
       " 6351226  CASH_OUT        1\n",
       " 6362461  CASH_OUT        1\n",
       " 6362463  CASH_OUT        1\n",
       " 6362585  CASH_OUT        1)"
      ]
     },
     "execution_count": 13,
     "metadata": {},
     "output_type": "execute_result"
    }
   ],
   "source": [
    "df_zeroAmtTxns = df.loc[df['amount'] == 0]\n",
    "\n",
    "len(df_zeroAmtTxns), df_zeroAmtTxns[['type', 'isFraud']]"
   ]
  },
  {
   "cell_type": "markdown",
   "metadata": {},
   "source": [
    "There are `16` such transactions, the `type` for all of them is `CASH_OUT`, and all of these transactions are `FRAUDULENT`.\n",
    "<br><br>\n",
    "We now shall move on to analyzing the originators' & recipients' balances.\n",
    "Finding the number of transactions where `oldbalanceOrg` or `newbalanceDest` `=0`:"
   ]
  },
  {
   "cell_type": "code",
   "execution_count": 14,
   "metadata": {
    "execution": {
     "iopub.execute_input": "2023-08-26T19:27:10.752049Z",
     "iopub.status.busy": "2023-08-26T19:27:10.751697Z",
     "iopub.status.idle": "2023-08-26T19:27:10.960393Z",
     "shell.execute_reply": "2023-08-26T19:27:10.959403Z",
     "shell.execute_reply.started": "2023-08-26T19:27:10.752016Z"
    }
   },
   "outputs": [
    {
     "data": {
      "text/plain": [
       "'`oldbalanceOrg` == 0: 47.23%, `newbalanceDest` == 0: 0.6%'"
      ]
     },
     "execution_count": 14,
     "metadata": {},
     "output_type": "execute_result"
    }
   ],
   "source": [
    "f\"`oldbalanceOrg` == 0: {round(len(df.loc[df['oldbalanceOrg'] == 0])*100/len(df), 2)}%, `newbalanceDest` == 0: {round(len(df.loc[df['newbalanceDest'] == 0])*100/len(df), 2)}%\" "
   ]
  },
  {
   "cell_type": "markdown",
   "metadata": {},
   "source": [
    "It is seen that in almost half of the transactions, the originator's initial balance was recorded as `zero`.\n",
    "<br><br>\n",
    "In an ideal scenario, the `newbalanceDest == oldbalanceDest + amount`, and `newbalanceOrig == oldbalanceOrg - amount`. We will now check these conditions."
   ]
  },
  {
   "cell_type": "code",
   "execution_count": 15,
   "metadata": {
    "execution": {
     "iopub.execute_input": "2023-08-26T19:27:10.962169Z",
     "iopub.status.busy": "2023-08-26T19:27:10.961826Z",
     "iopub.status.idle": "2023-08-26T19:27:11.21887Z",
     "shell.execute_reply": "2023-08-26T19:27:11.217667Z",
     "shell.execute_reply.started": "2023-08-26T19:27:10.962142Z"
    }
   },
   "outputs": [
    {
     "data": {
      "text/html": [
       "<div>\n",
       "<style scoped>\n",
       "    .dataframe tbody tr th:only-of-type {\n",
       "        vertical-align: middle;\n",
       "    }\n",
       "\n",
       "    .dataframe tbody tr th {\n",
       "        vertical-align: top;\n",
       "    }\n",
       "\n",
       "    .dataframe thead th {\n",
       "        text-align: right;\n",
       "    }\n",
       "</style>\n",
       "<table border=\"1\" class=\"dataframe\">\n",
       "  <thead>\n",
       "    <tr style=\"text-align: right;\">\n",
       "      <th></th>\n",
       "      <th>step</th>\n",
       "      <th>type</th>\n",
       "      <th>amount</th>\n",
       "      <th>nameOrig</th>\n",
       "      <th>oldbalanceOrg</th>\n",
       "      <th>newbalanceOrig</th>\n",
       "      <th>nameDest</th>\n",
       "      <th>oldbalanceDest</th>\n",
       "      <th>newbalanceDest</th>\n",
       "      <th>isFraud</th>\n",
       "    </tr>\n",
       "  </thead>\n",
       "  <tbody>\n",
       "    <tr>\n",
       "      <th>15</th>\n",
       "      <td>1</td>\n",
       "      <td>CASH_OUT</td>\n",
       "      <td>229133.94</td>\n",
       "      <td>C905080434</td>\n",
       "      <td>15325.00</td>\n",
       "      <td>0.00</td>\n",
       "      <td>C476402209</td>\n",
       "      <td>5083.0</td>\n",
       "      <td>51513.44</td>\n",
       "      <td>0</td>\n",
       "    </tr>\n",
       "    <tr>\n",
       "      <th>19</th>\n",
       "      <td>1</td>\n",
       "      <td>TRANSFER</td>\n",
       "      <td>215310.30</td>\n",
       "      <td>C1670993182</td>\n",
       "      <td>705.00</td>\n",
       "      <td>0.00</td>\n",
       "      <td>C1100439041</td>\n",
       "      <td>22425.0</td>\n",
       "      <td>0.00</td>\n",
       "      <td>0</td>\n",
       "    </tr>\n",
       "    <tr>\n",
       "      <th>24</th>\n",
       "      <td>1</td>\n",
       "      <td>TRANSFER</td>\n",
       "      <td>311685.89</td>\n",
       "      <td>C1984094095</td>\n",
       "      <td>10835.00</td>\n",
       "      <td>0.00</td>\n",
       "      <td>C932583850</td>\n",
       "      <td>6267.0</td>\n",
       "      <td>2719172.89</td>\n",
       "      <td>0</td>\n",
       "    </tr>\n",
       "    <tr>\n",
       "      <th>42</th>\n",
       "      <td>1</td>\n",
       "      <td>CASH_OUT</td>\n",
       "      <td>110414.71</td>\n",
       "      <td>C768216420</td>\n",
       "      <td>26845.41</td>\n",
       "      <td>0.00</td>\n",
       "      <td>C1509514333</td>\n",
       "      <td>288800.0</td>\n",
       "      <td>2415.16</td>\n",
       "      <td>0</td>\n",
       "    </tr>\n",
       "    <tr>\n",
       "      <th>47</th>\n",
       "      <td>1</td>\n",
       "      <td>CASH_OUT</td>\n",
       "      <td>56953.90</td>\n",
       "      <td>C1570470538</td>\n",
       "      <td>1942.02</td>\n",
       "      <td>0.00</td>\n",
       "      <td>C824009085</td>\n",
       "      <td>70253.0</td>\n",
       "      <td>64106.18</td>\n",
       "      <td>0</td>\n",
       "    </tr>\n",
       "    <tr>\n",
       "      <th>...</th>\n",
       "      <td>...</td>\n",
       "      <td>...</td>\n",
       "      <td>...</td>\n",
       "      <td>...</td>\n",
       "      <td>...</td>\n",
       "      <td>...</td>\n",
       "      <td>...</td>\n",
       "      <td>...</td>\n",
       "      <td>...</td>\n",
       "      <td>...</td>\n",
       "    </tr>\n",
       "    <tr>\n",
       "      <th>6362462</th>\n",
       "      <td>730</td>\n",
       "      <td>TRANSFER</td>\n",
       "      <td>7316255.05</td>\n",
       "      <td>C1869569059</td>\n",
       "      <td>17316255.05</td>\n",
       "      <td>17316255.05</td>\n",
       "      <td>C1861208726</td>\n",
       "      <td>0.0</td>\n",
       "      <td>0.00</td>\n",
       "      <td>1</td>\n",
       "    </tr>\n",
       "    <tr>\n",
       "      <th>6362506</th>\n",
       "      <td>734</td>\n",
       "      <td>TRANSFER</td>\n",
       "      <td>10000000.00</td>\n",
       "      <td>C1891630790</td>\n",
       "      <td>11810044.85</td>\n",
       "      <td>1810044.85</td>\n",
       "      <td>C2124431731</td>\n",
       "      <td>0.0</td>\n",
       "      <td>0.00</td>\n",
       "      <td>1</td>\n",
       "    </tr>\n",
       "    <tr>\n",
       "      <th>6362528</th>\n",
       "      <td>736</td>\n",
       "      <td>TRANSFER</td>\n",
       "      <td>10000000.00</td>\n",
       "      <td>C412961249</td>\n",
       "      <td>11314660.84</td>\n",
       "      <td>1314660.84</td>\n",
       "      <td>C253674970</td>\n",
       "      <td>0.0</td>\n",
       "      <td>0.00</td>\n",
       "      <td>1</td>\n",
       "    </tr>\n",
       "    <tr>\n",
       "      <th>6362582</th>\n",
       "      <td>741</td>\n",
       "      <td>TRANSFER</td>\n",
       "      <td>10000000.00</td>\n",
       "      <td>C1945606464</td>\n",
       "      <td>15674547.89</td>\n",
       "      <td>5674547.89</td>\n",
       "      <td>C625944676</td>\n",
       "      <td>0.0</td>\n",
       "      <td>0.00</td>\n",
       "      <td>1</td>\n",
       "    </tr>\n",
       "    <tr>\n",
       "      <th>6362584</th>\n",
       "      <td>741</td>\n",
       "      <td>TRANSFER</td>\n",
       "      <td>5674547.89</td>\n",
       "      <td>C992223106</td>\n",
       "      <td>5674547.89</td>\n",
       "      <td>5674547.89</td>\n",
       "      <td>C1366804249</td>\n",
       "      <td>0.0</td>\n",
       "      <td>0.00</td>\n",
       "      <td>1</td>\n",
       "    </tr>\n",
       "  </tbody>\n",
       "</table>\n",
       "<p>2596313 rows × 10 columns</p>\n",
       "</div>"
      ],
      "text/plain": [
       "         step      type       amount     nameOrig  oldbalanceOrg  \\\n",
       "15          1  CASH_OUT    229133.94   C905080434       15325.00   \n",
       "19          1  TRANSFER    215310.30  C1670993182         705.00   \n",
       "24          1  TRANSFER    311685.89  C1984094095       10835.00   \n",
       "42          1  CASH_OUT    110414.71   C768216420       26845.41   \n",
       "47          1  CASH_OUT     56953.90  C1570470538        1942.02   \n",
       "...       ...       ...          ...          ...            ...   \n",
       "6362462   730  TRANSFER   7316255.05  C1869569059    17316255.05   \n",
       "6362506   734  TRANSFER  10000000.00  C1891630790    11810044.85   \n",
       "6362528   736  TRANSFER  10000000.00   C412961249    11314660.84   \n",
       "6362582   741  TRANSFER  10000000.00  C1945606464    15674547.89   \n",
       "6362584   741  TRANSFER   5674547.89   C992223106     5674547.89   \n",
       "\n",
       "         newbalanceOrig     nameDest  oldbalanceDest  newbalanceDest  isFraud  \n",
       "15                 0.00   C476402209          5083.0        51513.44        0  \n",
       "19                 0.00  C1100439041         22425.0            0.00        0  \n",
       "24                 0.00   C932583850          6267.0      2719172.89        0  \n",
       "42                 0.00  C1509514333        288800.0         2415.16        0  \n",
       "47                 0.00   C824009085         70253.0        64106.18        0  \n",
       "...                 ...          ...             ...             ...      ...  \n",
       "6362462     17316255.05  C1861208726             0.0            0.00        1  \n",
       "6362506      1810044.85  C2124431731             0.0            0.00        1  \n",
       "6362528      1314660.84   C253674970             0.0            0.00        1  \n",
       "6362582      5674547.89   C625944676             0.0            0.00        1  \n",
       "6362584      5674547.89  C1366804249             0.0            0.00        1  \n",
       "\n",
       "[2596313 rows x 10 columns]"
      ]
     },
     "execution_count": 15,
     "metadata": {},
     "output_type": "execute_result"
    }
   ],
   "source": [
    "df.loc[df['newbalanceOrig'] != df['oldbalanceOrg'] - df['amount']]"
   ]
  },
  {
   "cell_type": "code",
   "execution_count": 16,
   "metadata": {
    "execution": {
     "iopub.execute_input": "2023-08-26T19:27:11.221011Z",
     "iopub.status.busy": "2023-08-26T19:27:11.220612Z",
     "iopub.status.idle": "2023-08-26T19:27:11.531166Z",
     "shell.execute_reply": "2023-08-26T19:27:11.530017Z",
     "shell.execute_reply.started": "2023-08-26T19:27:11.220976Z"
    }
   },
   "outputs": [
    {
     "data": {
      "text/plain": [
       "\"Txns. where Originators' balances are not accurately captured: 93.72%\""
      ]
     },
     "execution_count": 16,
     "metadata": {},
     "output_type": "execute_result"
    }
   ],
   "source": [
    "f\"Txns. where Originators' balances are not accurately captured: {round((len(df.loc[df['newbalanceOrig'] != df['oldbalanceOrg'] - df['amount']])*100/len(df)), 2)}%\""
   ]
  },
  {
   "cell_type": "code",
   "execution_count": 17,
   "metadata": {
    "execution": {
     "iopub.execute_input": "2023-08-26T19:27:11.533383Z",
     "iopub.status.busy": "2023-08-26T19:27:11.532997Z",
     "iopub.status.idle": "2023-08-26T19:27:11.706283Z",
     "shell.execute_reply": "2023-08-26T19:27:11.705181Z",
     "shell.execute_reply.started": "2023-08-26T19:27:11.533334Z"
    }
   },
   "outputs": [
    {
     "data": {
      "text/plain": [
       "\"Txns. where Recipients' balances are not accurately captured: 42.09%\""
      ]
     },
     "execution_count": 17,
     "metadata": {},
     "output_type": "execute_result"
    }
   ],
   "source": [
    "f\"Txns. where Recipients' balances are not accurately captured: {round((len(df.loc[df['newbalanceDest'] != df['oldbalanceDest'] + df['amount']])*100/len(df)), 2)}%\""
   ]
  },
  {
   "cell_type": "markdown",
   "metadata": {},
   "source": [
    "So, in most transactions, Originators' balances are not accurately captured, and in about two-fifths of the transactions, the Recipients' balances are not accurately captured.\n",
    "\n",
    "Now, we will explore if any of the variables directly help us identify the `FRAUDULENT` transactions.\n",
    "\n",
    "**1. Time `step` variable:**\n",
    "The number of txns. in each time `step` along with the `isFraud` flag is to be measured to identify (if any) the time steps where there are higher number of fraudulent transactions."
   ]
  },
  {
   "cell_type": "code",
   "execution_count": 18,
   "metadata": {
    "execution": {
     "iopub.execute_input": "2023-08-26T19:27:11.708568Z",
     "iopub.status.busy": "2023-08-26T19:27:11.708165Z",
     "iopub.status.idle": "2023-08-26T19:27:11.731227Z",
     "shell.execute_reply": "2023-08-26T19:27:11.729907Z",
     "shell.execute_reply.started": "2023-08-26T19:27:11.708535Z"
    }
   },
   "outputs": [
    {
     "data": {
      "text/html": [
       "<div>\n",
       "<style scoped>\n",
       "    .dataframe tbody tr th:only-of-type {\n",
       "        vertical-align: middle;\n",
       "    }\n",
       "\n",
       "    .dataframe tbody tr th {\n",
       "        vertical-align: top;\n",
       "    }\n",
       "\n",
       "    .dataframe thead th {\n",
       "        text-align: right;\n",
       "    }\n",
       "</style>\n",
       "<table border=\"1\" class=\"dataframe\">\n",
       "  <thead>\n",
       "    <tr style=\"text-align: right;\">\n",
       "      <th></th>\n",
       "      <th>step</th>\n",
       "      <th>isFraud</th>\n",
       "    </tr>\n",
       "  </thead>\n",
       "  <tbody>\n",
       "    <tr>\n",
       "      <th>2</th>\n",
       "      <td>1</td>\n",
       "      <td>1</td>\n",
       "    </tr>\n",
       "    <tr>\n",
       "      <th>3</th>\n",
       "      <td>1</td>\n",
       "      <td>1</td>\n",
       "    </tr>\n",
       "    <tr>\n",
       "      <th>15</th>\n",
       "      <td>1</td>\n",
       "      <td>0</td>\n",
       "    </tr>\n",
       "    <tr>\n",
       "      <th>19</th>\n",
       "      <td>1</td>\n",
       "      <td>0</td>\n",
       "    </tr>\n",
       "    <tr>\n",
       "      <th>24</th>\n",
       "      <td>1</td>\n",
       "      <td>0</td>\n",
       "    </tr>\n",
       "    <tr>\n",
       "      <th>...</th>\n",
       "      <td>...</td>\n",
       "      <td>...</td>\n",
       "    </tr>\n",
       "    <tr>\n",
       "      <th>6362615</th>\n",
       "      <td>743</td>\n",
       "      <td>1</td>\n",
       "    </tr>\n",
       "    <tr>\n",
       "      <th>6362616</th>\n",
       "      <td>743</td>\n",
       "      <td>1</td>\n",
       "    </tr>\n",
       "    <tr>\n",
       "      <th>6362617</th>\n",
       "      <td>743</td>\n",
       "      <td>1</td>\n",
       "    </tr>\n",
       "    <tr>\n",
       "      <th>6362618</th>\n",
       "      <td>743</td>\n",
       "      <td>1</td>\n",
       "    </tr>\n",
       "    <tr>\n",
       "      <th>6362619</th>\n",
       "      <td>743</td>\n",
       "      <td>1</td>\n",
       "    </tr>\n",
       "  </tbody>\n",
       "</table>\n",
       "<p>2770409 rows × 2 columns</p>\n",
       "</div>"
      ],
      "text/plain": [
       "         step  isFraud\n",
       "2           1        1\n",
       "3           1        1\n",
       "15          1        0\n",
       "19          1        0\n",
       "24          1        0\n",
       "...       ...      ...\n",
       "6362615   743        1\n",
       "6362616   743        1\n",
       "6362617   743        1\n",
       "6362618   743        1\n",
       "6362619   743        1\n",
       "\n",
       "[2770409 rows x 2 columns]"
      ]
     },
     "execution_count": 18,
     "metadata": {},
     "output_type": "execute_result"
    }
   ],
   "source": [
    "df[['step', 'isFraud']]"
   ]
  },
  {
   "cell_type": "code",
   "execution_count": 19,
   "metadata": {
    "execution": {
     "iopub.execute_input": "2023-08-26T19:27:11.733283Z",
     "iopub.status.busy": "2023-08-26T19:27:11.732715Z",
     "iopub.status.idle": "2023-08-26T19:27:16.947025Z",
     "shell.execute_reply": "2023-08-26T19:27:16.945878Z",
     "shell.execute_reply.started": "2023-08-26T19:27:11.73325Z"
    }
   },
   "outputs": [
    {
     "data": {
      "image/png": "[encoded data removed]",
      "text/plain": [
       "<Figure size 640x480 with 1 Axes>"
      ]
     },
     "metadata": {},
     "output_type": "display_data"
    }
   ],
   "source": [
    "df_fraud = df['isFraud'].isin([1])\n",
    "\n",
    "fraud_time = df[df_fraud].groupby(['step']).size().plot(kind='bar')\n",
    "fraud_time.set_xlabel('Time Step')\n",
    "fraud_time.set_ylabel('Frequency (`isFraud == 1`)')\n",
    "plt.show()"
   ]
  },
  {
   "cell_type": "code",
   "execution_count": 20,
   "metadata": {
    "execution": {
     "iopub.execute_input": "2023-08-26T19:27:16.948908Z",
     "iopub.status.busy": "2023-08-26T19:27:16.948459Z",
     "iopub.status.idle": "2023-08-26T19:27:20.844333Z",
     "shell.execute_reply": "2023-08-26T19:27:20.843356Z",
     "shell.execute_reply.started": "2023-08-26T19:27:16.948873Z"
    }
   },
   "outputs": [
    {
     "data": {
      "image/png": "[encoded data removed]",
      "text/plain": [
       "<Figure size 640x480 with 1 Axes>"
      ]
     },
     "metadata": {},
     "output_type": "display_data"
    }
   ],
   "source": [
    "df_fraud = df['isFraud'].isin([0])\n",
    "\n",
    "fraud_time = df[df_fraud].groupby(['step']).size().plot(kind='bar')\n",
    "fraud_time.set_xlabel('Time Step')\n",
    "fraud_time.set_ylabel('Frequency (`isFraud == 0`)')\n",
    "plt.show()"
   ]
  },
  {
   "cell_type": "markdown",
   "metadata": {},
   "source": [
    "Here, we can see that though the `FRAUDULENT` transactions are uniformly spread across `time`, the `NON-FRAUDULENT` trasactions are more concentrated in specific `time steps`, and so the feature `step` seems to be important for classification. Let us convert this `step`, a unit of which is a denotion of an `hour` in real time, starting from `00:00`, through a period of `31 days`, down into integers ranging from `0` to `24` hence signifying `hour of the day`.\n"
   ]
  },
  {
   "cell_type": "code",
   "execution_count": null,
   "metadata": {
    "execution": {
     "iopub.execute_input": "2023-08-26T19:27:20.846598Z",
     "iopub.status.busy": "2023-08-26T19:27:20.845738Z",
     "iopub.status.idle": "2023-08-26T19:35:20.298332Z",
     "shell.execute_reply": "2023-08-26T19:35:20.297268Z",
     "shell.execute_reply.started": "2023-08-26T19:27:20.84656Z"
    }
   },
   "outputs": [
    {
     "name": "stderr",
     "output_type": "stream",
     "text": [
      "/var/folders/6n/pcltk5896ts9hbxrsn2fxxyw0000gn/T/ipykernel_5212/3037618335.py:8: SettingWithCopyWarning: \n",
      "A value is trying to be set on a copy of a slice from a DataFrame\n",
      "\n",
      "See the caveats in the documentation: https://pandas.pydata.org/pandas-docs/stable/user_guide/indexing.html#returning-a-view-versus-a-copy\n",
      "  df['step'].at[ind] = (i - ((day - 1) * 24))\n"
     ]
    }
   ],
   "source": [
    "day = 1\n",
    "for ind in df['step'].index:\n",
    "    i = df['step'].at[ind]\n",
    "\n",
    "    if i > [j for j in range(24, 800, 24)][day - 1]:\n",
    "        day += 1\n",
    "\n",
    "    df['step'].at[ind] = (i - ((day - 1) * 24))"
   ]
  },
  {
   "cell_type": "code",
   "execution_count": null,
   "metadata": {
    "execution": {
     "iopub.execute_input": "2023-08-26T19:35:20.300173Z",
     "iopub.status.busy": "2023-08-26T19:35:20.299807Z",
     "iopub.status.idle": "2023-08-26T19:35:20.325885Z",
     "shell.execute_reply": "2023-08-26T19:35:20.324765Z",
     "shell.execute_reply.started": "2023-08-26T19:35:20.300139Z"
    }
   },
   "outputs": [],
   "source": [
    "df['step'].unique()"
   ]
  },
  {
   "cell_type": "markdown",
   "metadata": {},
   "source": [
    "**2. Transaction `amount` variable:**\n",
    "We will now try to find out if there lies any relationship between `isFraud` and the transacrtion `amount`:"
   ]
  },
  {
   "cell_type": "code",
   "execution_count": null,
   "metadata": {
    "execution": {
     "iopub.execute_input": "2023-08-26T19:35:20.328064Z",
     "iopub.status.busy": "2023-08-26T19:35:20.327452Z",
     "iopub.status.idle": "2023-08-26T19:35:20.345563Z",
     "shell.execute_reply": "2023-08-26T19:35:20.344631Z",
     "shell.execute_reply.started": "2023-08-26T19:35:20.328028Z"
    }
   },
   "outputs": [],
   "source": [
    "df['amount']\n",
    "df_fraud = df['isFraud'].isin([0])\n",
    "df_fraud\n",
    "df.amount"
   ]
  },
  {
   "cell_type": "code",
   "execution_count": null,
   "metadata": {
    "execution": {
     "iopub.execute_input": "2023-08-26T19:35:20.348712Z",
     "iopub.status.busy": "2023-08-26T19:35:20.348443Z",
     "iopub.status.idle": "2023-08-26T19:35:32.293847Z",
     "shell.execute_reply": "2023-08-26T19:35:32.292942Z",
     "shell.execute_reply.started": "2023-08-26T19:35:20.348689Z"
    }
   },
   "outputs": [],
   "source": [
    "import seaborn as sns\n",
    "\n",
    "sns.catplot(data=df, x = df.isFraud, y = df.amount, height = 10, aspect = 2, alpha = 0.4)"
   ]
  },
  {
   "cell_type": "markdown",
   "metadata": {},
   "source": [
    "Here, we can see that the amount of `non-fraudulent` transactions can be little higher that the `fraudulent` ones, however nothing can be derived about the differences between the two based on `amount`.\n",
    "\n",
    "**3. Balance variables:**\n",
    "We have already seen that there is a relationship between `fraudulent` transactions and `amount = 0`. We have also seen that a high number of transactions have inaccurately collected initial and final balances. Let us check these inaccuracies:"
   ]
  },
  {
   "cell_type": "code",
   "execution_count": null,
   "metadata": {
    "execution": {
     "iopub.execute_input": "2023-08-26T19:35:32.295326Z",
     "iopub.status.busy": "2023-08-26T19:35:32.294979Z",
     "iopub.status.idle": "2023-08-26T19:35:32.504294Z",
     "shell.execute_reply": "2023-08-26T19:35:32.503275Z",
     "shell.execute_reply.started": "2023-08-26T19:35:32.295291Z"
    }
   },
   "outputs": [],
   "source": [
    "df['origBalance_inacc'] = (df['oldbalanceOrg'] - df['amount']) - df['newbalanceOrig']\n",
    "df['destBalance_inacc'] = (df['oldbalanceDest'] + df['amount']) - df['newbalanceDest']\n",
    "\n",
    "df[['origBalance_inacc', 'destBalance_inacc']]"
   ]
  },
  {
   "cell_type": "code",
   "execution_count": null,
   "metadata": {
    "execution": {
     "iopub.execute_input": "2023-08-26T19:35:32.506713Z",
     "iopub.status.busy": "2023-08-26T19:35:32.505804Z",
     "iopub.status.idle": "2023-08-26T19:35:43.491027Z",
     "shell.execute_reply": "2023-08-26T19:35:43.489802Z",
     "shell.execute_reply.started": "2023-08-26T19:35:32.506677Z"
    }
   },
   "outputs": [],
   "source": [
    "sns.catplot(data=df, x = df.isFraud, y = df.origBalance_inacc, height = 10, aspect = 2, alpha = 0.4)"
   ]
  },
  {
   "cell_type": "code",
   "execution_count": null,
   "metadata": {
    "execution": {
     "iopub.execute_input": "2023-08-26T19:35:43.493176Z",
     "iopub.status.busy": "2023-08-26T19:35:43.492799Z",
     "iopub.status.idle": "2023-08-26T19:35:53.219152Z",
     "shell.execute_reply": "2023-08-26T19:35:53.218291Z",
     "shell.execute_reply.started": "2023-08-26T19:35:43.493145Z"
    }
   },
   "outputs": [],
   "source": [
    "plt.figure(figsize=(20,5))\n",
    "sns.catplot(data=df, x = df.isFraud, y = df.destBalance_inacc, height = 10, aspect = 2, alpha = 0.4)\n",
    "plt.show()"
   ]
  },
  {
   "cell_type": "markdown",
   "metadata": {},
   "source": [
    "It is safe to say we have found differences in the balance inaccuracies between fraudulent & non-fraudulent transactions.\n",
    "\n",
    "In conclusion of the EDA, let us plot the explored separation between fraudulent and non-fraudulent transactions with respect to the `time step`, `balances` and `balance inaccuracies`."
   ]
  },
  {
   "cell_type": "code",
   "execution_count": null,
   "metadata": {
    "execution": {
     "iopub.execute_input": "2023-08-26T19:35:53.230126Z",
     "iopub.status.busy": "2023-08-26T19:35:53.22916Z",
     "iopub.status.idle": "2023-08-26T19:38:21.02622Z",
     "shell.execute_reply": "2023-08-26T19:38:21.025153Z",
     "shell.execute_reply.started": "2023-08-26T19:35:53.23009Z"
    }
   },
   "outputs": [],
   "source": [
    "sns.scatterplot(data=df, x = df.destBalance_inacc, y = df.step, hue = df.isFraud, alpha = 0.4)"
   ]
  },
  {
   "cell_type": "markdown",
   "metadata": {},
   "source": [
    "Calculating the correlation matrix:"
   ]
  },
  {
   "cell_type": "code",
   "execution_count": null,
   "metadata": {
    "execution": {
     "iopub.execute_input": "2023-08-26T19:38:21.028797Z",
     "iopub.status.busy": "2023-08-26T19:38:21.027742Z",
     "iopub.status.idle": "2023-08-26T19:38:22.445247Z",
     "shell.execute_reply": "2023-08-26T19:38:22.444336Z",
     "shell.execute_reply.started": "2023-08-26T19:38:21.028757Z"
    }
   },
   "outputs": [],
   "source": [
    "corr = df.corr()\n",
    "\n",
    "plt.figure(figsize=(25, 15))\n",
    "sns.heatmap(corr, annot=True, cmap='RdYlGn')\n",
    "plt.show()"
   ]
  },
  {
   "cell_type": "markdown",
   "metadata": {},
   "source": [
    "# Data Preprocessing\n",
    "We first need to drop unnecessary features:"
   ]
  },
  {
   "cell_type": "code",
   "execution_count": null,
   "metadata": {
    "execution": {
     "iopub.execute_input": "2023-08-26T19:38:22.447963Z",
     "iopub.status.busy": "2023-08-26T19:38:22.447176Z",
     "iopub.status.idle": "2023-08-26T19:38:22.619469Z",
     "shell.execute_reply": "2023-08-26T19:38:22.617328Z",
     "shell.execute_reply.started": "2023-08-26T19:38:22.447923Z"
    }
   },
   "outputs": [],
   "source": [
    "df.drop(['newbalanceDest', 'newbalanceOrig', 'nameOrig', 'nameDest'], axis = 1, inplace = True)"
   ]
  },
  {
   "cell_type": "markdown",
   "metadata": {},
   "source": [
    "Then we move on to `one hot encoding` our categorical variable `type`:"
   ]
  },
  {
   "cell_type": "code",
   "execution_count": null,
   "metadata": {
    "execution": {
     "iopub.execute_input": "2023-08-26T19:38:22.621719Z",
     "iopub.status.busy": "2023-08-26T19:38:22.621048Z",
     "iopub.status.idle": "2023-08-26T19:38:23.06728Z",
     "shell.execute_reply": "2023-08-26T19:38:23.066327Z",
     "shell.execute_reply.started": "2023-08-26T19:38:22.62168Z"
    }
   },
   "outputs": [],
   "source": [
    "df = pd.get_dummies(df, columns=['type'], prefix=['type'])\n",
    "df.dtypes"
   ]
  },
  {
   "cell_type": "markdown",
   "metadata": {},
   "source": [
    "We now need to normalize our data to scale all columns into the same range (except for the categorical features). We will use `MinMaxScaler` for this:"
   ]
  },
  {
   "cell_type": "code",
   "execution_count": null,
   "metadata": {
    "execution": {
     "iopub.execute_input": "2023-08-26T19:38:23.069548Z",
     "iopub.status.busy": "2023-08-26T19:38:23.069116Z",
     "iopub.status.idle": "2023-08-26T19:38:26.523238Z",
     "shell.execute_reply": "2023-08-26T19:38:26.522263Z",
     "shell.execute_reply.started": "2023-08-26T19:38:23.069511Z"
    }
   },
   "outputs": [],
   "source": [
    "from sklearn.preprocessing import MinMaxScaler\n",
    "\n",
    "min_max_scaler = MinMaxScaler()\n",
    "\n",
    "df_scaled = df.loc[:,~df.columns.isin(['isFraud', 'type_CASH_OUT', 'type_TRANSFER'])]\n",
    "cols = df_scaled.columns\n",
    "df_scaled = pd.DataFrame(min_max_scaler.fit_transform(df_scaled))\n",
    "df_scaled.columns = cols\n",
    "cols = cols.tolist()\n",
    "cols.append('isFraud')\n",
    "cols.append('type_CASH_OUT')\n",
    "cols.append('type_TRANSFER')\n",
    "\n",
    "df_scaled_new = pd.DataFrame(columns = [cols])\n",
    "for i in df_scaled.columns:\n",
    "    df_scaled_new[i] = df_scaled[i]\n",
    "\n",
    "df_scaled_new.reset_index(drop=True, inplace = True)\n",
    "df.reset_index(drop=True, inplace = True)\n",
    "\n",
    "for i in ['type_CASH_OUT', 'type_TRANSFER', 'isFraud']:\n",
    "    df_scaled_new[i] = df[i]\n",
    "\n",
    "df_scaled_new"
   ]
  },
  {
   "cell_type": "markdown",
   "metadata": {},
   "source": [
    "Now we need to split our data into `train` and `test` (`70:30` split):"
   ]
  },
  {
   "cell_type": "code",
   "execution_count": null,
   "metadata": {
    "execution": {
     "iopub.execute_input": "2023-08-26T19:38:26.534597Z",
     "iopub.status.busy": "2023-08-26T19:38:26.527709Z",
     "iopub.status.idle": "2023-08-26T19:38:27.37719Z",
     "shell.execute_reply": "2023-08-26T19:38:27.376147Z",
     "shell.execute_reply.started": "2023-08-26T19:38:26.534567Z"
    }
   },
   "outputs": [],
   "source": [
    "from sklearn.model_selection import train_test_split\n",
    "\n",
    "X = df_scaled_new.drop(columns='isFraud')\n",
    "Y = df_scaled_new['isFraud']\n",
    "\n",
    "X_train, X_test, Y_train, Y_test = train_test_split(X, Y, test_size=0.30, random_state=0)"
   ]
  },
  {
   "cell_type": "code",
   "execution_count": null,
   "metadata": {
    "execution": {
     "iopub.execute_input": "2023-08-26T19:38:27.378846Z",
     "iopub.status.busy": "2023-08-26T19:38:27.378479Z",
     "iopub.status.idle": "2023-08-26T19:38:27.474354Z",
     "shell.execute_reply": "2023-08-26T19:38:27.473269Z",
     "shell.execute_reply.started": "2023-08-26T19:38:27.378803Z"
    }
   },
   "outputs": [],
   "source": [
    "from sklearn.preprocessing import LabelEncoder\n",
    "\n",
    "label_encoder = LabelEncoder()\n",
    "Y_train = label_encoder.fit_transform(Y_train.values.ravel())\n",
    "Y_test = label_encoder.fit_transform(Y_test.values.ravel())"
   ]
  },
  {
   "cell_type": "markdown",
   "metadata": {},
   "source": [
    "Now, we will move on to checking if the class imbalance is the similar in our training and testing sets:"
   ]
  },
  {
   "cell_type": "code",
   "execution_count": null,
   "metadata": {
    "execution": {
     "iopub.execute_input": "2023-08-26T19:38:27.476148Z",
     "iopub.status.busy": "2023-08-26T19:38:27.475748Z",
     "iopub.status.idle": "2023-08-26T19:38:28.119921Z",
     "shell.execute_reply": "2023-08-26T19:38:28.118788Z",
     "shell.execute_reply.started": "2023-08-26T19:38:27.476112Z"
    }
   },
   "outputs": [],
   "source": [
    "frauds_train = 0\n",
    "for i in Y_train:\n",
    "    if i == 1:\n",
    "        frauds_train += 1\n",
    "\n",
    "frauds_test = 0\n",
    "for i in Y_test:\n",
    "    if i == 1:\n",
    "        frauds_test += 1\n",
    "\n",
    "print(f'Class imbalance - TRAIN: {round((frauds_train/len(Y_train) * 100), 3)}%, TEST: {round((frauds_test/len(Y_test) * 100), 3)}%')"
   ]
  },
  {
   "cell_type": "markdown",
   "metadata": {},
   "source": [
    "# 1. Logistic Regression - ML\n",
    "\n",
    "Firstly, to handle high imbalance among the two classes, we use `class_weights` which will allocate a different weight to each class depending on their majority or minority, hence penaliizng misclassification due to buiding of a biased model."
   ]
  },
  {
   "cell_type": "code",
   "execution_count": null,
   "metadata": {
    "execution": {
     "iopub.execute_input": "2023-08-26T19:38:28.121736Z",
     "iopub.status.busy": "2023-08-26T19:38:28.121268Z",
     "iopub.status.idle": "2023-08-26T19:38:47.180434Z",
     "shell.execute_reply": "2023-08-26T19:38:47.178889Z",
     "shell.execute_reply.started": "2023-08-26T19:38:28.121701Z"
    }
   },
   "outputs": [],
   "source": [
    "from sklearn.linear_model import LogisticRegression\n",
    "\n",
    "lr = LogisticRegression(class_weight = 'balanced')\n",
    "lr_model = lr.fit(X_train, Y_train)"
   ]
  },
  {
   "cell_type": "code",
   "execution_count": null,
   "metadata": {
    "execution": {
     "iopub.execute_input": "2023-08-26T19:38:47.190156Z",
     "iopub.status.busy": "2023-08-26T19:38:47.185128Z",
     "iopub.status.idle": "2023-08-26T19:38:47.240909Z",
     "shell.execute_reply": "2023-08-26T19:38:47.239665Z",
     "shell.execute_reply.started": "2023-08-26T19:38:47.1901Z"
    }
   },
   "outputs": [],
   "source": [
    "Y_pred = lr_model.predict(X_test)"
   ]
  },
  {
   "cell_type": "code",
   "execution_count": null,
   "metadata": {
    "execution": {
     "iopub.execute_input": "2023-08-26T19:38:47.247478Z",
     "iopub.status.busy": "2023-08-26T19:38:47.246499Z",
     "iopub.status.idle": "2023-08-26T19:38:48.126458Z",
     "shell.execute_reply": "2023-08-26T19:38:48.12536Z",
     "shell.execute_reply.started": "2023-08-26T19:38:47.247444Z"
    }
   },
   "outputs": [],
   "source": [
    "from sklearn.metrics import confusion_matrix, ConfusionMatrixDisplay\n",
    "\n",
    "cm = confusion_matrix(Y_test, Y_pred, labels=lr.classes_)\n",
    "cm_plot = ConfusionMatrixDisplay(confusion_matrix=cm, display_labels=lr.classes_)\n",
    "cm_plot.plot()"
   ]
  },
  {
   "cell_type": "code",
   "execution_count": null,
   "metadata": {
    "execution": {
     "iopub.execute_input": "2023-08-26T19:38:48.12966Z",
     "iopub.status.busy": "2023-08-26T19:38:48.128065Z",
     "iopub.status.idle": "2023-08-26T19:38:48.485522Z",
     "shell.execute_reply": "2023-08-26T19:38:48.484395Z",
     "shell.execute_reply.started": "2023-08-26T19:38:48.129619Z"
    }
   },
   "outputs": [],
   "source": [
    "from sklearn.metrics import auc, roc_curve, RocCurveDisplay\n",
    "\n",
    "fpr, tpr, thresholds = roc_curve(Y_test, Y_pred)\n",
    "roc_auc = auc(fpr, tpr)\n",
    "roc_plot = RocCurveDisplay(fpr=fpr, tpr=tpr, roc_auc=roc_auc, estimator_name='Logistic Regression')\n",
    "roc_plot.plot()"
   ]
  },
  {
   "cell_type": "code",
   "execution_count": null,
   "metadata": {
    "execution": {
     "iopub.execute_input": "2023-08-26T19:38:48.487674Z",
     "iopub.status.busy": "2023-08-26T19:38:48.487254Z",
     "iopub.status.idle": "2023-08-26T19:38:49.621018Z",
     "shell.execute_reply": "2023-08-26T19:38:49.619691Z",
     "shell.execute_reply.started": "2023-08-26T19:38:48.487635Z"
    }
   },
   "outputs": [],
   "source": [
    "from sklearn.metrics import classification_report\n",
    "\n",
    "print(classification_report(Y_test, Y_pred))"
   ]
  },
  {
   "cell_type": "markdown",
   "metadata": {},
   "source": [
    "The typical metrics for any classification model calculated from the confusion matrix, for this `Logistic Regression` model with `class_weights=\"balanced\"` are as follows:"
   ]
  },
  {
   "cell_type": "code",
   "execution_count": null,
   "metadata": {
    "execution": {
     "iopub.execute_input": "2023-08-26T19:38:49.6237Z",
     "iopub.status.busy": "2023-08-26T19:38:49.622885Z",
     "iopub.status.idle": "2023-08-26T19:38:50.586707Z",
     "shell.execute_reply": "2023-08-26T19:38:50.585556Z",
     "shell.execute_reply.started": "2023-08-26T19:38:49.623654Z"
    }
   },
   "outputs": [],
   "source": [
    "from sklearn.metrics import recall_score, precision_score, f1_score, accuracy_score\n",
    "\n",
    "print('Accuracy:', round(accuracy_score(Y_test, Y_pred), 3))\n",
    "print('Precision:', round(precision_score(Y_test, Y_pred), 3), '', 'Recall:', round(recall_score(Y_test, Y_pred), 3))\n",
    "print('F1 score:', round(f1_score(Y_test, Y_pred), 3))"
   ]
  },
  {
   "cell_type": "markdown",
   "metadata": {},
   "source": [
    "As we can see, our model has acheived an `accuracy` of about `93%` but it is not a good enough metric to base the success of the model.\n",
    "Though the `recall` has come out to be `~0.831`, which means that of the total `isFraud=1` cases, our model has correctly identified `~83%`, the `precision` of the model is only `0.035`, meaning that out of the total cases predicted as `isFraud=1` by our model, only about `3.5%` were fraudulent in actuality.\n",
    "\n",
    "The `F1-score` of the model is only `0.067`, which would identify our model as a bad fit for classifying the data at hand.\n",
    "\n",
    "We could perhaps retrain the model on the same data without using `class_weights=\"balanced\"`, to see how it affects the model's metrics."
   ]
  },
  {
   "cell_type": "code",
   "execution_count": null,
   "metadata": {
    "execution": {
     "iopub.execute_input": "2023-08-26T19:38:50.589434Z",
     "iopub.status.busy": "2023-08-26T19:38:50.588176Z",
     "iopub.status.idle": "2023-08-26T19:39:06.177491Z",
     "shell.execute_reply": "2023-08-26T19:39:06.176509Z",
     "shell.execute_reply.started": "2023-08-26T19:38:50.589379Z"
    }
   },
   "outputs": [],
   "source": [
    "lr = LogisticRegression()\n",
    "lr_model = lr.fit(X_train, Y_train)\n",
    "Y_pred = lr_model.predict(X_test)\n",
    "\n",
    "cm = confusion_matrix(Y_test, Y_pred, labels=lr.classes_)\n",
    "cm_plot = ConfusionMatrixDisplay(confusion_matrix=cm, display_labels=lr.classes_)\n",
    "cm_plot.plot()\n",
    "\n",
    "fpr, tpr, thresholds = roc_curve(Y_test, Y_pred)\n",
    "roc_auc = auc(fpr, tpr)\n",
    "roc_plot = RocCurveDisplay(fpr=fpr, tpr=tpr, roc_auc=roc_auc, estimator_name='Logistic Regression')\n",
    "roc_plot.plot()"
   ]
  },
  {
   "cell_type": "code",
   "execution_count": null,
   "metadata": {
    "execution": {
     "iopub.execute_input": "2023-08-26T19:39:06.179763Z",
     "iopub.status.busy": "2023-08-26T19:39:06.178904Z",
     "iopub.status.idle": "2023-08-26T19:39:07.242515Z",
     "shell.execute_reply": "2023-08-26T19:39:07.241294Z",
     "shell.execute_reply.started": "2023-08-26T19:39:06.179726Z"
    }
   },
   "outputs": [],
   "source": [
    "print(classification_report(Y_test, Y_pred))"
   ]
  },
  {
   "cell_type": "markdown",
   "metadata": {},
   "source": [
    "The new Logistic Regression model with no handling of the present Class Imbalance actually gave a much better `F1-score`, of about `~0.18`. The `precision` of the new model is `~0.95`, which means that around `88%` of the `isFraud=1` predictions made are correct; on the other hand, the `recall` is down to `~0.10`, meaning that approximately `90%` of the actual fraudulent transactions were gone unidentified by our model.\n",
    "\n",
    "The model is still not fit to classify query transactions as fraudulent or non-fraudulent, due to the presence of Class Imbalance and we shall now try handle the same using one of the popular methods—Random Undersampling, Random Oversampling, SMOTE, SMOTE ENN, SMOTE TOMEK, ADASYN, Imbalanced.\n",
    "\n",
    "Let us try to address class imbalance using `Random Undersampling` for our Logistic Regression Model."
   ]
  },
  {
   "cell_type": "code",
   "execution_count": null,
   "metadata": {
    "execution": {
     "iopub.execute_input": "2023-08-26T19:39:07.245198Z",
     "iopub.status.busy": "2023-08-26T19:39:07.244408Z",
     "iopub.status.idle": "2023-08-26T19:39:07.391439Z",
     "shell.execute_reply": "2023-08-26T19:39:07.390394Z",
     "shell.execute_reply.started": "2023-08-26T19:39:07.245158Z"
    }
   },
   "outputs": [],
   "source": [
    "import numpy as np\n",
    "\n",
    "fraud_train_ind = np.where(Y_train == 1)[0]\n",
    "non_fraud_train_ind = np.where(Y_train == 0)[0]\n",
    "\n",
    "non_fraud_train_ind_und = np.random.choice(non_fraud_train_ind, len(fraud_train_ind), replace = False)\n",
    "non_fraud_train_ind_und = np.array(non_fraud_train_ind_und)\n",
    "\n",
    "train_ind_und = np.concatenate([fraud_train_ind, non_fraud_train_ind_und])\n",
    "\n",
    "X_train_und = X_train.loc[X_train.reset_index(drop=True).index.isin(train_ind_und),:]\n",
    "Y_train_und = Y_train[train_ind_und.tolist()]"
   ]
  },
  {
   "cell_type": "code",
   "execution_count": null,
   "metadata": {
    "execution": {
     "iopub.execute_input": "2023-08-26T19:39:07.393464Z",
     "iopub.status.busy": "2023-08-26T19:39:07.393048Z",
     "iopub.status.idle": "2023-08-26T19:39:07.606467Z",
     "shell.execute_reply": "2023-08-26T19:39:07.605226Z",
     "shell.execute_reply.started": "2023-08-26T19:39:07.393427Z"
    }
   },
   "outputs": [],
   "source": [
    "frauds_train = 0\n",
    "for i in Y_train_und:\n",
    "    if i == 1:\n",
    "        frauds_train += 1\n",
    "\n",
    "frauds_test = 0\n",
    "for i in Y_test:\n",
    "    if i == 1:\n",
    "        frauds_test += 1\n",
    "\n",
    "print(f'Class imbalance - TRAIN: {round((frauds_train/len(Y_train_und) * 100), 3)}%, TEST: {round((frauds_test/len(Y_test) * 100), 3)}%')"
   ]
  },
  {
   "cell_type": "markdown",
   "metadata": {},
   "source": [
    "We have successfully undersampled our training data and can now move on to preparing a Logistic Regression model on the undersampled training data."
   ]
  },
  {
   "cell_type": "code",
   "execution_count": null,
   "metadata": {
    "execution": {
     "iopub.execute_input": "2023-08-26T19:39:07.608434Z",
     "iopub.status.busy": "2023-08-26T19:39:07.608037Z",
     "iopub.status.idle": "2023-08-26T19:39:08.510184Z",
     "shell.execute_reply": "2023-08-26T19:39:08.509107Z",
     "shell.execute_reply.started": "2023-08-26T19:39:07.608397Z"
    }
   },
   "outputs": [],
   "source": [
    "lr = LogisticRegression()\n",
    "lr_model = lr.fit(X_train_und, Y_train_und)\n",
    "Y_pred = lr_model.predict(X_test)\n",
    "\n",
    "cm = confusion_matrix(Y_test, Y_pred, labels=lr.classes_)\n",
    "cm_plot = ConfusionMatrixDisplay(confusion_matrix=cm, display_labels=lr.classes_)\n",
    "cm_plot.plot()\n",
    "\n",
    "fpr, tpr, thresholds = roc_curve(Y_test, Y_pred)\n",
    "roc_auc = auc(fpr, tpr)\n",
    "roc_plot = RocCurveDisplay(fpr=fpr, tpr=tpr, roc_auc=roc_auc, estimator_name='Logistic Regression')\n",
    "roc_plot.plot()"
   ]
  },
  {
   "cell_type": "code",
   "execution_count": null,
   "metadata": {
    "execution": {
     "iopub.execute_input": "2023-08-26T19:39:08.512708Z",
     "iopub.status.busy": "2023-08-26T19:39:08.512016Z",
     "iopub.status.idle": "2023-08-26T19:39:09.751446Z",
     "shell.execute_reply": "2023-08-26T19:39:09.750079Z",
     "shell.execute_reply.started": "2023-08-26T19:39:08.512668Z"
    }
   },
   "outputs": [],
   "source": [
    "print(classification_report(Y_test, Y_pred))"
   ]
  },
  {
   "cell_type": "markdown",
   "metadata": {},
   "source": [
    "The above metrics of the latest model tell us that even after undersampling, our model is highly unfit to classify the data at hand.\n",
    "\n",
    "Let us try to use the `Random Oversampling` technique for addressing Class Imabalance for our Logistic Regression model."
   ]
  },
  {
   "cell_type": "code",
   "execution_count": null,
   "metadata": {
    "execution": {
     "iopub.execute_input": "2023-08-26T19:39:09.753679Z",
     "iopub.status.busy": "2023-08-26T19:39:09.753033Z",
     "iopub.status.idle": "2023-08-26T19:39:11.136644Z",
     "shell.execute_reply": "2023-08-26T19:39:11.135497Z",
     "shell.execute_reply.started": "2023-08-26T19:39:09.753638Z"
    }
   },
   "outputs": [],
   "source": [
    "from imblearn.over_sampling import RandomOverSampler\n",
    "\n",
    "ovr = RandomOverSampler(random_state=42)\n",
    "X_train_ovr, Y_train_ovr = ovr.fit_resample(X_train, Y_train)\n"
   ]
  },
  {
   "cell_type": "code",
   "execution_count": null,
   "metadata": {
    "execution": {
     "iopub.execute_input": "2023-08-26T19:39:11.139151Z",
     "iopub.status.busy": "2023-08-26T19:39:11.138022Z",
     "iopub.status.idle": "2023-08-26T19:39:41.965299Z",
     "shell.execute_reply": "2023-08-26T19:39:41.964309Z",
     "shell.execute_reply.started": "2023-08-26T19:39:11.139115Z"
    }
   },
   "outputs": [],
   "source": [
    "lr = LogisticRegression()\n",
    "lr_model = lr.fit(X_train_ovr, Y_train_ovr)\n",
    "Y_pred = lr_model.predict(X_test)\n",
    "\n",
    "cm = confusion_matrix(Y_test, Y_pred, labels=lr.classes_)\n",
    "cm_plot = ConfusionMatrixDisplay(confusion_matrix=cm, display_labels=lr.classes_)\n",
    "cm_plot.plot()\n",
    "\n",
    "fpr, tpr, thresholds = roc_curve(Y_test, Y_pred)\n",
    "roc_auc = auc(fpr, tpr)\n",
    "roc_plot = RocCurveDisplay(fpr=fpr, tpr=tpr, roc_auc=roc_auc, estimator_name='Logistic Regression')\n",
    "roc_plot.plot()"
   ]
  },
  {
   "cell_type": "code",
   "execution_count": null,
   "metadata": {
    "execution": {
     "iopub.execute_input": "2023-08-26T19:39:41.968196Z",
     "iopub.status.busy": "2023-08-26T19:39:41.967453Z",
     "iopub.status.idle": "2023-08-26T19:39:43.071487Z",
     "shell.execute_reply": "2023-08-26T19:39:43.070084Z",
     "shell.execute_reply.started": "2023-08-26T19:39:41.968158Z"
    }
   },
   "outputs": [],
   "source": [
    "print(classification_report(Y_test, Y_pred))"
   ]
  },
  {
   "cell_type": "markdown",
   "metadata": {},
   "source": [
    "The above scores tell us that the method of Random Oversampling has increased the `recall` of our model but the `precision` is unacceptably low. \n",
    "\n",
    "We will now take a last shot at trying to fit this model addressing the imbalance using the `SMOTE` technique:"
   ]
  },
  {
   "cell_type": "code",
   "execution_count": null,
   "metadata": {
    "execution": {
     "iopub.execute_input": "2023-08-26T19:39:43.073745Z",
     "iopub.status.busy": "2023-08-26T19:39:43.073335Z",
     "iopub.status.idle": "2023-08-26T19:39:44.119354Z",
     "shell.execute_reply": "2023-08-26T19:39:44.117036Z",
     "shell.execute_reply.started": "2023-08-26T19:39:43.073709Z"
    }
   },
   "outputs": [],
   "source": [
    "from imblearn.over_sampling import SMOTE\n",
    "\n",
    "smote = SMOTE()\n",
    "\n",
    "# fit predictor and target features\n",
    "X_train_SMOTE, Y_train_SMOTE = smote.fit_resample(X_train, Y_train)"
   ]
  },
  {
   "cell_type": "code",
   "execution_count": null,
   "metadata": {
    "execution": {
     "iopub.execute_input": "2023-08-26T19:39:44.122101Z",
     "iopub.status.busy": "2023-08-26T19:39:44.121481Z",
     "iopub.status.idle": "2023-08-26T19:40:15.580853Z",
     "shell.execute_reply": "2023-08-26T19:40:15.579911Z",
     "shell.execute_reply.started": "2023-08-26T19:39:44.122058Z"
    }
   },
   "outputs": [],
   "source": [
    "lr = LogisticRegression()\n",
    "lr_model = lr.fit(X_train_SMOTE, Y_train_SMOTE)\n",
    "Y_pred = lr_model.predict(X_test)\n",
    "\n",
    "cm = confusion_matrix(Y_test, Y_pred, labels=lr.classes_)\n",
    "cm_plot = ConfusionMatrixDisplay(confusion_matrix=cm, display_labels=lr.classes_)\n",
    "cm_plot.plot()\n",
    "\n",
    "fpr, tpr, thresholds = roc_curve(Y_test, Y_pred)\n",
    "roc_auc = auc(fpr, tpr)\n",
    "roc_plot = RocCurveDisplay(fpr=fpr, tpr=tpr, roc_auc=roc_auc, estimator_name='Logistic Regression')\n",
    "roc_plot.plot()"
   ]
  },
  {
   "cell_type": "code",
   "execution_count": null,
   "metadata": {
    "execution": {
     "iopub.execute_input": "2023-08-26T19:40:15.583036Z",
     "iopub.status.busy": "2023-08-26T19:40:15.582182Z",
     "iopub.status.idle": "2023-08-26T19:40:16.685177Z",
     "shell.execute_reply": "2023-08-26T19:40:16.684033Z",
     "shell.execute_reply.started": "2023-08-26T19:40:15.582999Z"
    }
   },
   "outputs": [],
   "source": [
    "print(classification_report(Y_test, Y_pred))"
   ]
  },
  {
   "cell_type": "markdown",
   "metadata": {},
   "source": [
    "These results show that even the `SMOTE` method is not being able to sufficiently help us make a 'good fitting' Logistic Regression model for our data, as we are not being able to find a good enough balance between `precision` and `recall`, and therefore the `F1-score` is unacceptably low.\n",
    "\n",
    "Let us now move on to a different ML algorithm, hopefully one which would be a better fit.\n",
    "\n",
    "# 2. Random Forest - ML"
   ]
  },
  {
   "cell_type": "code",
   "execution_count": null,
   "metadata": {
    "execution": {
     "iopub.execute_input": "2023-08-26T19:40:16.688685Z",
     "iopub.status.busy": "2023-08-26T19:40:16.686892Z",
     "iopub.status.idle": "2023-08-26T19:40:17.186182Z",
     "shell.execute_reply": "2023-08-26T19:40:17.185089Z",
     "shell.execute_reply.started": "2023-08-26T19:40:16.688639Z"
    }
   },
   "outputs": [],
   "source": [
    "X = df.drop(columns='isFraud')\n",
    "Y = df['isFraud']\n",
    "\n",
    "X_train, X_test, Y_train, Y_test = train_test_split(X, Y, test_size=0.30, random_state=0)"
   ]
  },
  {
   "cell_type": "code",
   "execution_count": null,
   "metadata": {
    "execution": {
     "iopub.execute_input": "2023-08-26T19:40:17.188289Z",
     "iopub.status.busy": "2023-08-26T19:40:17.187916Z",
     "iopub.status.idle": "2023-08-26T19:46:51.988301Z",
     "shell.execute_reply": "2023-08-26T19:46:51.987251Z",
     "shell.execute_reply.started": "2023-08-26T19:40:17.188255Z"
    }
   },
   "outputs": [],
   "source": [
    "from sklearn.ensemble import RandomForestClassifier\n",
    "\n",
    "rf = RandomForestClassifier()\n",
    "\n",
    "rf_model = rf.fit(X_train, Y_train)\n",
    "rf_model.score(X_test, Y_test)"
   ]
  },
  {
   "cell_type": "code",
   "execution_count": null,
   "metadata": {
    "execution": {
     "iopub.execute_input": "2023-08-26T19:46:51.9908Z",
     "iopub.status.busy": "2023-08-26T19:46:51.989828Z",
     "iopub.status.idle": "2023-08-26T19:46:59.16545Z",
     "shell.execute_reply": "2023-08-26T19:46:59.164399Z",
     "shell.execute_reply.started": "2023-08-26T19:46:51.990759Z"
    }
   },
   "outputs": [],
   "source": [
    "Y_pred = rf_model.predict(X_test)"
   ]
  },
  {
   "cell_type": "code",
   "execution_count": null,
   "metadata": {
    "execution": {
     "iopub.execute_input": "2023-08-26T19:46:59.16773Z",
     "iopub.status.busy": "2023-08-26T19:46:59.167272Z",
     "iopub.status.idle": "2023-08-26T19:46:59.882151Z",
     "shell.execute_reply": "2023-08-26T19:46:59.881088Z",
     "shell.execute_reply.started": "2023-08-26T19:46:59.167694Z"
    }
   },
   "outputs": [],
   "source": [
    "cm = confusion_matrix(Y_test, Y_pred, labels=rf_model.classes_)\n",
    "cm_plot = ConfusionMatrixDisplay(confusion_matrix=cm, display_labels=rf_model.classes_)\n",
    "cm_plot.plot()\n",
    "\n",
    "fpr, tpr, thresholds = roc_curve(Y_test, Y_pred)\n",
    "roc_auc = auc(fpr, tpr)\n",
    "roc_plot = RocCurveDisplay(fpr=fpr, tpr=tpr, roc_auc=roc_auc, estimator_name='Random Forest')\n",
    "roc_plot.plot()"
   ]
  },
  {
   "cell_type": "code",
   "execution_count": null,
   "metadata": {
    "execution": {
     "iopub.execute_input": "2023-08-26T19:46:59.885942Z",
     "iopub.status.busy": "2023-08-26T19:46:59.885607Z",
     "iopub.status.idle": "2023-08-26T19:47:00.987802Z",
     "shell.execute_reply": "2023-08-26T19:47:00.986621Z",
     "shell.execute_reply.started": "2023-08-26T19:46:59.885913Z"
    }
   },
   "outputs": [],
   "source": [
    "print(classification_report(Y_test, Y_pred))"
   ]
  },
  {
   "cell_type": "markdown",
   "metadata": {},
   "source": [
    "We will now tune the `hyperparameters` of the `Radom Forest` model using `RandomizedSearchCV`:"
   ]
  },
  {
   "cell_type": "code",
   "execution_count": null,
   "metadata": {
    "execution": {
     "iopub.execute_input": "2023-08-26T19:47:00.991679Z",
     "iopub.status.busy": "2023-08-26T19:47:00.989602Z",
     "iopub.status.idle": "2023-08-26T19:47:00.998024Z",
     "shell.execute_reply": "2023-08-26T19:47:00.996815Z",
     "shell.execute_reply.started": "2023-08-26T19:47:00.991634Z"
    }
   },
   "outputs": [],
   "source": [
    "# rf_parameters = {\n",
    "#     'n_estimators' : [i for i in range(0, 501, 50)],\n",
    "#     'max_depth' : [4, 5, 1, 2, None],\n",
    "#     'min_samples_split' : [2, 3, 4, 5],\n",
    "#     'min_samples_leaf' : [1, 4, 10, 20],\n",
    "#     'max_leaf_nodes' : [2, 5, 10, None]   \n",
    "# }\n",
    "\n",
    "# from sklearn.model_selection import RandomizedSearchCV\n",
    "\n",
    "# rf_rscv = RandomizedSearchCV(rf, rf_parameters, cv=5, n_iter=5)\n",
    "# rf_model_best = rf_rscv.fit(X_train, Y_train)\n",
    "\n",
    "# rf_model_best.best_estimator_\n",
    "\n",
    "## OUTPUT: RandomForestClassifier(min_samples_leaf=4, min_samples_split=4)"
   ]
  },
  {
   "cell_type": "code",
   "execution_count": null,
   "metadata": {
    "execution": {
     "iopub.execute_input": "2023-08-26T19:47:01.000448Z",
     "iopub.status.busy": "2023-08-26T19:47:00.999795Z",
     "iopub.status.idle": "2023-08-26T19:53:28.242974Z",
     "shell.execute_reply": "2023-08-26T19:53:28.241705Z",
     "shell.execute_reply.started": "2023-08-26T19:47:01.000406Z"
    }
   },
   "outputs": [],
   "source": [
    "rf_best = RandomForestClassifier(min_samples_leaf=4, min_samples_split=4, random_state=0)\n",
    "\n",
    "rf_model_best = rf_best.fit(X_train, Y_train)"
   ]
  },
  {
   "cell_type": "code",
   "execution_count": null,
   "metadata": {
    "execution": {
     "iopub.execute_input": "2023-08-26T19:53:28.245564Z",
     "iopub.status.busy": "2023-08-26T19:53:28.244526Z",
     "iopub.status.idle": "2023-08-26T19:53:34.987813Z",
     "shell.execute_reply": "2023-08-26T19:53:34.986765Z",
     "shell.execute_reply.started": "2023-08-26T19:53:28.245505Z"
    }
   },
   "outputs": [],
   "source": [
    "Y_pred_best = rf_model_best.predict(X_test)"
   ]
  },
  {
   "cell_type": "code",
   "execution_count": null,
   "metadata": {
    "execution": {
     "iopub.execute_input": "2023-08-26T19:53:34.989804Z",
     "iopub.status.busy": "2023-08-26T19:53:34.989332Z",
     "iopub.status.idle": "2023-08-26T19:53:35.657713Z",
     "shell.execute_reply": "2023-08-26T19:53:35.65676Z",
     "shell.execute_reply.started": "2023-08-26T19:53:34.989767Z"
    }
   },
   "outputs": [],
   "source": [
    "cm = confusion_matrix(Y_test, Y_pred_best, labels=rf_best.classes_)\n",
    "cm_plot = ConfusionMatrixDisplay(confusion_matrix=cm, display_labels=rf_best.classes_)\n",
    "cm_plot.plot()\n",
    "\n",
    "fpr, tpr, thresholds = roc_curve(Y_test, Y_pred_best)\n",
    "roc_auc = auc(fpr, tpr)\n",
    "roc_plot = RocCurveDisplay(fpr=fpr, tpr=tpr, roc_auc=roc_auc, estimator_name='Random Forest')\n",
    "roc_plot.plot()"
   ]
  },
  {
   "cell_type": "code",
   "execution_count": null,
   "metadata": {
    "execution": {
     "iopub.execute_input": "2023-08-26T19:53:35.660623Z",
     "iopub.status.busy": "2023-08-26T19:53:35.659168Z",
     "iopub.status.idle": "2023-08-26T19:53:36.687095Z",
     "shell.execute_reply": "2023-08-26T19:53:36.685801Z",
     "shell.execute_reply.started": "2023-08-26T19:53:35.660587Z"
    }
   },
   "outputs": [],
   "source": [
    "print(classification_report(Y_test, Y_pred_best))"
   ]
  },
  {
   "cell_type": "code",
   "execution_count": null,
   "metadata": {
    "execution": {
     "iopub.execute_input": "2023-08-26T19:53:36.689572Z",
     "iopub.status.busy": "2023-08-26T19:53:36.688885Z",
     "iopub.status.idle": "2023-08-26T19:53:37.444085Z",
     "shell.execute_reply": "2023-08-26T19:53:37.442894Z",
     "shell.execute_reply.started": "2023-08-26T19:53:36.689532Z"
    }
   },
   "outputs": [],
   "source": [
    "print('Accuracy:', round(accuracy_score(Y_test, Y_pred_best), 3))\n",
    "print('Precision:', round(precision_score(Y_test, Y_pred_best), 3), '', 'Recall:', round(recall_score(Y_test, Y_pred_best), 3))\n",
    "print('F1 score:', round(f1_score(Y_test, Y_pred_best), 3))"
   ]
  },
  {
   "cell_type": "markdown",
   "metadata": {},
   "source": [
    "As can be seen from the above results, the `Random Forest Classifier` has acheived an `accuracy` of `~0.999`, which is an impressive score, but not a sufficiently satisfying metric to base a model as a 'good fit'. \n",
    "So, we move on to the other important metric—the model has achieved an `F1-score` of nearly `0.888`, and `AUC ~= 0.90`, which sufficiently places our model as an **excellent fit** for our data.\n",
    "\n",
    "Let us now try to fit the same model with a `threshold`, experiment with this value and see if we can get an even better fitting fraud detection model for our data."
   ]
  },
  {
   "cell_type": "code",
   "execution_count": null,
   "metadata": {
    "execution": {
     "iopub.execute_input": "2023-08-26T19:53:37.446302Z",
     "iopub.status.busy": "2023-08-26T19:53:37.445688Z",
     "iopub.status.idle": "2023-08-26T19:53:44.200897Z",
     "shell.execute_reply": "2023-08-26T19:53:44.199735Z",
     "shell.execute_reply.started": "2023-08-26T19:53:37.446263Z"
    }
   },
   "outputs": [],
   "source": [
    "threshold = 0.3\n",
    "\n",
    "Y_best_threshold_probs = rf_model_best.predict_proba(X_test)"
   ]
  },
  {
   "cell_type": "code",
   "execution_count": null,
   "metadata": {
    "execution": {
     "iopub.execute_input": "2023-08-26T19:53:44.203126Z",
     "iopub.status.busy": "2023-08-26T19:53:44.202702Z",
     "iopub.status.idle": "2023-08-26T19:53:44.219268Z",
     "shell.execute_reply": "2023-08-26T19:53:44.218186Z",
     "shell.execute_reply.started": "2023-08-26T19:53:44.203087Z"
    }
   },
   "outputs": [],
   "source": [
    "Y_best_threshold_probs[:,0] = (Y_best_threshold_probs[:,0] > (1 - threshold)).astype('int')\n",
    "Y_best_threshold_probs[:,1] = (Y_best_threshold_probs[:,1] >= threshold).astype('int')\n",
    "\n",
    "Y_best_threshold_probs"
   ]
  },
  {
   "cell_type": "code",
   "execution_count": null,
   "metadata": {
    "execution": {
     "iopub.execute_input": "2023-08-26T19:53:44.221225Z",
     "iopub.status.busy": "2023-08-26T19:53:44.220857Z",
     "iopub.status.idle": "2023-08-26T19:53:47.687282Z",
     "shell.execute_reply": "2023-08-26T19:53:47.686067Z",
     "shell.execute_reply.started": "2023-08-26T19:53:44.221191Z"
    }
   },
   "outputs": [],
   "source": [
    "Y_predictions_threshold = []\n",
    "\n",
    "for i in range(len(Y_best_threshold_probs)):\n",
    "    Y_predictions_threshold.append(np.argmax(Y_best_threshold_probs[i]))"
   ]
  },
  {
   "cell_type": "code",
   "execution_count": null,
   "metadata": {
    "execution": {
     "iopub.execute_input": "2023-08-26T19:53:47.689435Z",
     "iopub.status.busy": "2023-08-26T19:53:47.68883Z",
     "iopub.status.idle": "2023-08-26T19:53:49.464324Z",
     "shell.execute_reply": "2023-08-26T19:53:49.462945Z",
     "shell.execute_reply.started": "2023-08-26T19:53:47.689385Z"
    }
   },
   "outputs": [],
   "source": [
    "print(classification_report(Y_test, Y_predictions_threshold))"
   ]
  },
  {
   "cell_type": "markdown",
   "metadata": {},
   "source": [
    "We can see that by adding a `threshold` to our predictions, we have an increased `recall`, which means more of the `FRAUDULENT` transactions are being detected by our program, on the cost of a decreased `precision` (i.e. increased number of misclassifications of `NON_FRAUDULENT` transactions).\n",
    "\n",
    "Taking the results from the above example of `threshold = 0.3` and comparing them with those of our best no-threshold model, we have realised a `recall` gain of about `3%` at the cost of a `precision` dip of `4%`, however, the `f1-score` is the same. \n",
    "\n",
    "We can set this `threshold` as per our preference, usually depending on our tolerance to `False Positives` and `False Negatives`."
   ]
  }
 ],
 "metadata": {
  "kaggle": {
   "accelerator": "none",
   "dataSources": [
    {
     "datasetId": 1069,
     "sourceId": 1940,
     "sourceType": "datasetVersion"
    }
   ],
   "dockerImageVersionId": 30513,
   "isGpuEnabled": false,
   "isInternetEnabled": false,
   "language": "python",
   "sourceType": "notebook"
  },
  "kernelspec": {
   "display_name": "Python 3 (ipykernel)",
   "language": "python",
   "name": "python3"
  },
  "language_info": {
   "codemirror_mode": {
    "name": "ipython",
    "version": 3
   },
   "file_extension": ".py",
   "mimetype": "text/x-python",
   "name": "python",
   "nbconvert_exporter": "python",
   "pygments_lexer": "ipython3",
   "version": "3.11.5"
  }
 },
 "nbformat": 4,
 "nbformat_minor": 4
}
